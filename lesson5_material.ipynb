{
 "cells": [
  {
   "cell_type": "markdown",
   "metadata": {},
   "source": [
    "# **intro to pandas**\n",
    "\n",
    "## **Quick Overview**\n",
    "- **Pandas** is a powerful data manipulation library for Python. It is built on top of NumPy and provides easy-to-use data structures and data analysis tools for Python programming language.\n",
    "\n",
    "### **What is Pandas?**\n",
    "- **Definition:**\n",
    "  - Pandas is an open-source Python library primarily used for data analysis and manipulation. It provides high-level data structures and functions designed to make working with structured data fast, easy, and intuitive.\n",
    "\n",
    "### **Key Features of Pandas:**\n",
    "1. **Data Structures:**\n",
    "   - **Series**: A 1-dimensional labeled array capable of holding data of any type.\n",
    "   - **DataFrame**: A 2-dimensional labeled data structure with columns of potentially different types, akin to a spreadsheet or SQL table.\n",
    "2. **Data Handling:**\n",
    "   - Efficiently handles large datasets, allowing for easy data manipulation.\n",
    "   - Allows for time-series analysis and manipulation.\n",
    "3. **Data Input/Output:**\n",
    "   - Support for reading and writing data to various formats, including CSV, Excel, SQL databases, JSON, and more.\n",
    "4. **Data Analysis Tools:**\n",
    "   - Offers advanced data aggregation and transformation options akin to groups and joins in SQL.\n",
    "5. **Indexing and Selecting Data:**\n",
    "   - Powerful data selection methods.\n",
    "6. **Handling Missing Data:**\n",
    "   - Built-in methods to detect, remove, or replace missing data.\n"
   ]
  },
  {
   "cell_type": "code",
   "execution_count": 12,
   "metadata": {},
   "outputs": [],
   "source": [
    "import pandas as pd\n",
    "import numpy as np"
   ]
  },
  {
   "cell_type": "markdown",
   "metadata": {},
   "source": [
    "### **Definition:**\n",
    "- A **Pandas Series** is a one-dimensional labeled array that can hold any data type (integers, floats, strings, etc.). It is similar to a Python list or dictionary but provides more functionality.\n",
    "\n",
    "### **Characteristics of a Pandas Series:**\n",
    "1. **Index:** Each element in a Series has an associated label (index), which can be custom-defined.\n",
    "2. **Homogeneous Data:** All elements are of the same data type.\n",
    "3. **Data Type:** Events, financial data, or any other structured data types can be stored."
   ]
  },
  {
   "cell_type": "code",
   "execution_count": 3,
   "metadata": {},
   "outputs": [
    {
     "name": "stdout",
     "output_type": "stream",
     "text": [
      "0    10\n",
      "1    20\n",
      "2    30\n",
      "3    40\n",
      "dtype: int64\n"
     ]
    }
   ],
   "source": [
    "# Creating a Series from a list\n",
    "data = [10, 20, 30, 40]\n",
    "series = pd.Series(data)\n",
    "print(series)"
   ]
  },
  {
   "cell_type": "code",
   "execution_count": 4,
   "metadata": {},
   "outputs": [
    {
     "name": "stdout",
     "output_type": "stream",
     "text": [
      "a    10\n",
      "b    20\n",
      "c    30\n",
      "dtype: int64\n"
     ]
    }
   ],
   "source": [
    "# Creating a Series from a dictionary\n",
    "data_dict = {'a': 10, 'b': 20, 'c': 30}\n",
    "series_dict = pd.Series(data_dict)\n",
    "print(series_dict)"
   ]
  },
  {
   "cell_type": "code",
   "execution_count": 6,
   "metadata": {},
   "outputs": [
    {
     "name": "stdout",
     "output_type": "stream",
     "text": [
      "a    10\n",
      "b    20\n",
      "c    30\n",
      "d    40\n",
      "dtype: int64\n"
     ]
    }
   ],
   "source": [
    "# Creating a Series with Custom Index\n",
    "data = [10, 20, 30, 40]\n",
    "index = ['a', 'b', 'c', 'd']\n",
    "series_custom = pd.Series(data, index=index)\n",
    "print(series_custom)"
   ]
  },
  {
   "cell_type": "markdown",
   "metadata": {},
   "source": [
    "### **Attributes of a Pandas Series:**"
   ]
  },
  {
   "cell_type": "code",
   "execution_count": 9,
   "metadata": {},
   "outputs": [
    {
     "name": "stdout",
     "output_type": "stream",
     "text": [
      "RangeIndex(start=0, stop=4, step=1)\n",
      "[100  20  30  40]\n",
      "int64\n"
     ]
    }
   ],
   "source": [
    "# Accessing the index, values, and dtype of a Series\n",
    "print(series.index)\n",
    "print(series.values)\n",
    "print(series.dtype)"
   ]
  },
  {
   "cell_type": "markdown",
   "metadata": {},
   "source": [
    "### **Accessing Elements in a Series**\n",
    "- Use **integer-based indexing** or **label-based indexing** to access elements."
   ]
  },
  {
   "cell_type": "code",
   "execution_count": 10,
   "metadata": {},
   "outputs": [
    {
     "name": "stdout",
     "output_type": "stream",
     "text": [
      "10\n",
      "20\n"
     ]
    },
    {
     "name": "stderr",
     "output_type": "stream",
     "text": [
      "/var/folders/dt/tgmydmjd1g354lgxy3yn76g40000gn/T/ipykernel_22447/2371884906.py:2: FutureWarning: Series.__getitem__ treating keys as positions is deprecated. In a future version, integer keys will always be treated as labels (consistent with DataFrame behavior). To access a value by position, use `ser.iloc[pos]`\n",
      "  print(series_custom[0]) # Output: 10 (using integer location)\n"
     ]
    }
   ],
   "source": [
    "# Elements by index in a Series\n",
    "print(series_custom[0]) # Output: 10 (using integer location) will be deprecated\n",
    "print(series_custom['b']) # Output: 20 (using custom index)"
   ]
  },
  {
   "cell_type": "markdown",
   "metadata": {},
   "source": [
    "### **Slicing a Series:**"
   ]
  },
  {
   "cell_type": "code",
   "execution_count": 7,
   "metadata": {},
   "outputs": [
    {
     "name": "stdout",
     "output_type": "stream",
     "text": [
      "1    20\n",
      "2    30\n",
      "dtype: int64\n"
     ]
    }
   ],
   "source": [
    "print(series[1:3])  # Output: Series with elements at index 1 and 2"
   ]
  },
  {
   "cell_type": "markdown",
   "metadata": {},
   "source": [
    "### **Custom Indexing:**"
   ]
  },
  {
   "cell_type": "code",
   "execution_count": 11,
   "metadata": {},
   "outputs": [
    {
     "name": "stdout",
     "output_type": "stream",
     "text": [
      "x    100\n",
      "y    200\n",
      "z    300\n",
      "dtype: int64\n",
      "200\n",
      "x    100\n",
      "z    300\n",
      "dtype: int64\n"
     ]
    }
   ],
   "source": [
    "# Creating a Series with custom index\n",
    "series3 = pd.Series([100, 200, 300], index=['x', 'y', 'z'])\n",
    "print(series3)\n",
    "\n",
    "# Accessing elements using custom index labels\n",
    "print(series3['y'])   \n",
    "print(series3[['x', 'z']])  # Selecting multiple elements"
   ]
  },
  {
   "cell_type": "markdown",
   "metadata": {},
   "source": [
    "#### **2. DataFrame**\n",
    "\n",
    "**Creation from various data sources (dicts, lists, NumPy arrays):**"
   ]
  },
  {
   "cell_type": "code",
   "execution_count": 14,
   "metadata": {},
   "outputs": [
    {
     "name": "stdout",
     "output_type": "stream",
     "text": [
      "      Name  Age\n",
      "0    Alice   25\n",
      "1      Bob   30\n",
      "2  Charlie   35\n",
      "---------------------\n",
      "      Name  Age\n",
      "0    Alice   25\n",
      "1      Bob   30\n",
      "2  Charlie   35\n",
      "---------------------\n",
      "      Name Age\n",
      "0    Alice  25\n",
      "1      Bob  30\n",
      "2  Charlie  35\n",
      "---------------------\n"
     ]
    }
   ],
   "source": [
    "import numpy as np\n",
    "\n",
    "# Creating a DataFrame from a dictionary\n",
    "data_dict = {'Name': ['Alice', 'Bob', 'Charlie'], 'Age': [25, 30, 35]}\n",
    "df1 = pd.DataFrame(data_dict)\n",
    "print(df1)\n",
    "print(\"---------------------\")\n",
    "\n",
    "# Creating a DataFrame from a list of lists\n",
    "data_list = [['Alice', 25], ['Bob', 30], ['Charlie', 35]]\n",
    "df2 = pd.DataFrame(data_list, columns=['Name', 'Age'])\n",
    "print(df2)\n",
    "print(\"---------------------\")\n",
    "\n",
    "# Creating a DataFrame from a NumPy array\n",
    "data_array = np.array([['Alice', 25], ['Bob', 30], ['Charlie', 35]])\n",
    "df3 = pd.DataFrame(data_array, columns=['Name', 'Age'])\n",
    "print(df3)\n",
    "print(\"---------------------\")"
   ]
  },
  {
   "cell_type": "markdown",
   "metadata": {},
   "source": [
    "### **Attributes (columns, index, values, shape, dtypes):**"
   ]
  },
  {
   "cell_type": "code",
   "execution_count": 19,
   "metadata": {},
   "outputs": [
    {
     "name": "stdout",
     "output_type": "stream",
     "text": [
      "Index(['Name', 'Age'], dtype='object')\n",
      "---------------------\n",
      "RangeIndex(start=0, stop=3, step=1)\n",
      "---------------------\n",
      "[['Alice' 25]\n",
      " ['Bob' 30]\n",
      " ['Charlie' 35]]\n",
      "---------------------\n",
      "(3, 2)\n",
      "---------------------\n",
      "Name    object\n",
      "Age      int64\n",
      "dtype: object\n",
      "---------------------\n"
     ]
    }
   ],
   "source": [
    "# Accessing DataFrame attributes\n",
    "print(df1.columns)\n",
    "print(\"---------------------\")\n",
    "print(df1.index)\n",
    "print(\"---------------------\")\n",
    "print(df1.values)\n",
    "print(\"---------------------\")\n",
    "print(df1.shape)\n",
    "print(\"---------------------\")\n",
    "print(df1.dtypes)\n",
    "print(\"---------------------\")"
   ]
  },
  {
   "cell_type": "markdown",
   "metadata": {},
   "source": [
    "### **Basic Operations (head, tail, info, describe):**"
   ]
  },
  {
   "cell_type": "code",
   "execution_count": 18,
   "metadata": {},
   "outputs": [
    {
     "name": "stdout",
     "output_type": "stream",
     "text": [
      "      Name  Age\n",
      "0    Alice   25\n",
      "1      Bob   30\n",
      "2  Charlie   35\n",
      "---------------------\n",
      "      Name  Age\n",
      "0    Alice   25\n",
      "1      Bob   30\n",
      "2  Charlie   35\n",
      "---------------------\n",
      "<class 'pandas.core.frame.DataFrame'>\n",
      "RangeIndex: 3 entries, 0 to 2\n",
      "Data columns (total 2 columns):\n",
      " #   Column  Non-Null Count  Dtype \n",
      "---  ------  --------------  ----- \n",
      " 0   Name    3 non-null      object\n",
      " 1   Age     3 non-null      int64 \n",
      "dtypes: int64(1), object(1)\n",
      "memory usage: 180.0+ bytes\n",
      "None\n",
      "---------------------\n",
      "        Age\n",
      "count   3.0\n",
      "mean   30.0\n",
      "std     5.0\n",
      "min    25.0\n",
      "25%    27.5\n",
      "50%    30.0\n",
      "75%    32.5\n",
      "max    35.0\n",
      "---------------------\n"
     ]
    }
   ],
   "source": [
    "# Displaying the first few rows\n",
    "print(df1.head())\n",
    "print(\"---------------------\")\n",
    "\n",
    "# Displaying the last few rows\n",
    "print(df1.tail())\n",
    "print(\"---------------------\")\n",
    "\n",
    "# Getting DataFrame info\n",
    "print(df1.info())\n",
    "print(\"---------------------\")\n",
    "\n",
    "# Descriptive statistics of DataFrame\n",
    "print(df1.describe())\n",
    "print(\"---------------------\")"
   ]
  },
  {
   "cell_type": "markdown",
   "metadata": {},
   "source": [
    "### **Data Input/Output**\n",
    "\n",
    "#### **Writing Data:**"
   ]
  },
  {
   "cell_type": "code",
   "execution_count": 22,
   "metadata": {},
   "outputs": [],
   "source": [
    "# Writing DataFrame to a CSV file\n",
    "df1.to_csv('output.csv', index=False)\n",
    "\n",
    "# Writing DataFrame to an Excel file\n",
    "df1.to_excel('output.xlsx', index=False) # you might need to install openpyxl with `pip install openpyxl`\n",
    "\n",
    "# Writing DataFrame to a SQL database\n",
    "import sqlite3\n",
    "\n",
    "# Creating a connection to a SQLite database\n",
    "# conn = sqlite3.connect('example.db')\n",
    "\n",
    "# df1.to_sql('table_name', conn, if_exists='replace', index=False)\n",
    "\n",
    "# Writing DataFrame to a JSON file\n",
    "df1.to_json('output.json', orient='records')\n"
   ]
  },
  {
   "cell_type": "markdown",
   "metadata": {},
   "source": [
    "#### **Reading Data:**"
   ]
  },
  {
   "cell_type": "code",
   "execution_count": 23,
   "metadata": {},
   "outputs": [
    {
     "name": "stdout",
     "output_type": "stream",
     "text": [
      "      Name  Age\n",
      "0    Alice   25\n",
      "1      Bob   30\n",
      "2  Charlie   35\n",
      "      Name  Age\n",
      "0    Alice   25\n",
      "1      Bob   30\n",
      "2  Charlie   35\n",
      "      Name  Age\n",
      "0    Alice   25\n",
      "1      Bob   30\n",
      "2  Charlie   35\n"
     ]
    }
   ],
   "source": [
    "# Reading data from a CSV file\n",
    "df_csv = pd.read_csv('output.csv')\n",
    "print(df_csv.head())\n",
    "\n",
    "# Reading data from an Excel file\n",
    "df_excel = pd.read_excel('output.xlsx')\n",
    "print(df_excel.head())\n",
    "\n",
    "# Reading data from a SQL database\n",
    "# df_sql = pd.read_sql('SELECT * FROM table_name', conn)\n",
    "# print(df_sql.head())\n",
    "\n",
    "# Reading data from a JSON file\n",
    "df_json = pd.read_json('output.json')\n",
    "print(df_json.head())"
   ]
  },
  {
   "cell_type": "markdown",
   "metadata": {},
   "source": [
    "### **Handling Missing Data**\n",
    "\n",
    "#### **Detection:**"
   ]
  },
  {
   "cell_type": "code",
   "execution_count": 24,
   "metadata": {},
   "outputs": [
    {
     "name": "stdout",
     "output_type": "stream",
     "text": [
      "       A      B\n",
      "0  False   True\n",
      "1  False  False\n",
      "2   True  False\n",
      "       A      B\n",
      "0   True  False\n",
      "1   True   True\n",
      "2  False   True\n"
     ]
    }
   ],
   "source": [
    "# isnull():\n",
    "# Detecting missing values\n",
    "data_with_nan = {'A': [1, 2, None], 'B': [None, 2, 3]}\n",
    "df_with_nan = pd.DataFrame(data_with_nan)\n",
    "print(df_with_nan.isnull())\n",
    "\n",
    "# notnull():\n",
    "# Detecting non-missing values\n",
    "print(df_with_nan.notnull())"
   ]
  },
  {
   "cell_type": "markdown",
   "metadata": {},
   "source": [
    "#### **Handling:**"
   ]
  },
  {
   "cell_type": "code",
   "execution_count": 28,
   "metadata": {},
   "outputs": [
    {
     "name": "stdout",
     "output_type": "stream",
     "text": [
      "     A    B\n",
      "1  2.0  2.0\n",
      "---------------------\n",
      "Empty DataFrame\n",
      "Columns: []\n",
      "Index: [0, 1, 2]\n",
      "---------------------\n",
      "     A    B\n",
      "0  1.0  0.0\n",
      "1  2.0  2.0\n",
      "2  0.0  3.0\n",
      "---------------------\n",
      "     A    B\n",
      "0  1.0  NaN\n",
      "1  2.0  2.0\n",
      "2  2.0  3.0\n",
      "---------------------\n",
      "     A    B\n",
      "0  1.0  2.0\n",
      "1  2.0  2.0\n",
      "2  NaN  3.0\n",
      "---------------------\n"
     ]
    }
   ],
   "source": [
    "# dropna():\n",
    "# Dropping rows with missing values\n",
    "print(df_with_nan.dropna())\n",
    "print(\"---------------------\")\n",
    "\n",
    "# Dropping columns with missing values\n",
    "print(df_with_nan.dropna(axis=1))\n",
    "print(\"---------------------\")\n",
    "\n",
    "# fillna():\n",
    "# Filling missing values with a constant\n",
    "print(df_with_nan.fillna(0))\n",
    "print(\"---------------------\")\n",
    "\n",
    "# Filling missing values with a method (forward fill)\n",
    "# print(df_with_nan.fillna(method='ffill')) # willl be deprecated\n",
    "print(df_with_nan.ffill())\n",
    "print(\"---------------------\")\n",
    "\n",
    "# Filling missing values with a method (backward fill)\n",
    "# print(df_with_nan.fillna(method='bfill')) # willl be deprecated\n",
    "print(df_with_nan.bfill())\n",
    "print(\"---------------------\")"
   ]
  },
  {
   "cell_type": "markdown",
   "metadata": {},
   "source": [
    "### **Indexing and Selecting Data**\n",
    "\n",
    "#### **Indexing:**\n"
   ]
  },
  {
   "cell_type": "code",
   "execution_count": 29,
   "metadata": {},
   "outputs": [
    {
     "name": "stdout",
     "output_type": "stream",
     "text": [
      "         Age\n",
      "Name        \n",
      "Alice     25\n",
      "Bob       30\n",
      "Charlie   35\n",
      "      Name  Age\n",
      "0    Alice   25\n",
      "1      Bob   30\n",
      "2  Charlie   35\n"
     ]
    }
   ],
   "source": [
    "# Setting a new index\n",
    "df1.set_index('Name', inplace=True)\n",
    "print(df1)\n",
    "\n",
    "# Resetting index back to default\n",
    "df1.reset_index(inplace=True)\n",
    "print(df1)"
   ]
  },
  {
   "cell_type": "code",
   "execution_count": 30,
   "metadata": {},
   "outputs": [
    {
     "name": "stdout",
     "output_type": "stream",
     "text": [
      "              Age\n",
      "Animal Color     \n",
      "Cat    White    2\n",
      "Dog    Brown    3\n",
      "Cat    Black    4\n",
      "Dog    White    5\n"
     ]
    }
   ],
   "source": [
    "# Hierarchical Indexing:\n",
    "# Creating a DataFrame\n",
    "df_multi = pd.DataFrame({\n",
    "    'Animal': ['Cat', 'Dog', 'Cat', 'Dog'],\n",
    "    'Color': ['White', 'Brown', 'Black', 'White'],\n",
    "    'Age': [2, 3, 4, 5]\n",
    "})\n",
    "\n",
    "# Setting hierarchical index\n",
    "df_multi.set_index(['Animal', 'Color'], inplace=True)\n",
    "print(df_multi)"
   ]
  },
  {
   "cell_type": "code",
   "execution_count": 33,
   "metadata": {},
   "outputs": [
    {
     "name": "stdout",
     "output_type": "stream",
     "text": [
      "      Name  Age\n",
      "2  Charlie   35\n"
     ]
    }
   ],
   "source": [
    "# Boolean Indexing:\n",
    "# Selecting rows based on a condition\n",
    "print(df1[df1['Age'] > 30])"
   ]
  },
  {
   "cell_type": "markdown",
   "metadata": {},
   "source": [
    "#### **Selecting Data:**\n",
    "\n",
    "##### **Selection by Label (`loc`)** Detailed Use Cases"
   ]
  },
  {
   "cell_type": "code",
   "execution_count": 39,
   "metadata": {},
   "outputs": [
    {
     "name": "stdout",
     "output_type": "stream",
     "text": [
      "Name     Bob\n",
      "Age       27\n",
      "Score     90\n",
      "Name: 1, dtype: object\n",
      "---------------------\n",
      "27\n",
      "---------------------\n",
      "      Name  Score\n",
      "1      Bob     90\n",
      "2  Charlie     88\n",
      "---------------------\n"
     ]
    }
   ],
   "source": [
    "# Selecting Specific Rows and Columns\n",
    "# Sample DataFrame\n",
    "data = {\n",
    "    'Name': ['Alice', 'Bob', 'Charlie', 'David'],\n",
    "    'Age': [24, 27, 22, 32],\n",
    "    'Score': [85, 90, 88, 76]\n",
    "}\n",
    "df = pd.DataFrame(data)\n",
    "\n",
    "# Selecting a specific row by label\n",
    "print(df.loc[1])\n",
    "print(\"---------------------\")\n",
    "\n",
    "# Selecting a specific cell by row and column labels\n",
    "print(df.loc[1, 'Age'])\n",
    "print(\"---------------------\")\n",
    "\n",
    "# Selecting multiple rows and columns\n",
    "print(df.loc[1:2, ['Name', 'Score']])\n",
    "print(\"---------------------\")"
   ]
  },
  {
   "cell_type": "code",
   "execution_count": 38,
   "metadata": {},
   "outputs": [
    {
     "name": "stdout",
     "output_type": "stream",
     "text": [
      "    Name  Age  Score\n",
      "1    Bob   27     95\n",
      "3  David   32     76\n",
      "---------------------\n",
      "    Name  Age\n",
      "1    Bob   27\n",
      "3  David   32\n",
      "---------------------\n",
      "      Name  Age  Score\n",
      "0    Alice   24    100\n",
      "1      Bob   27     95\n",
      "2  Charlie   22    100\n",
      "3    David   32     76\n",
      "---------------------\n",
      "      Name  Age  Score\n",
      "0    Alice   24    100\n",
      "1      Bob   27     95\n",
      "2  Charlie   22    100\n",
      "3    David   32     76\n",
      "---------------------\n"
     ]
    }
   ],
   "source": [
    "# Selecting Based on Boolean Conditions\n",
    "# Selecting rows where Age > 25\n",
    "print(df.loc[df['Age'] > 25])\n",
    "print(\"---------------------\")\n",
    "\n",
    "# Selecting rows where Age > 25 and selecting specific columns\n",
    "print(df.loc[df['Age'] > 25, ['Name', 'Age']])\n",
    "print(\"---------------------\")\n"
   ]
  },
  {
   "cell_type": "code",
   "execution_count": 40,
   "metadata": {},
   "outputs": [
    {
     "name": "stdout",
     "output_type": "stream",
     "text": [
      "      Name  Age  Score\n",
      "0    Alice   24     85\n",
      "1      Bob   27     95\n",
      "2  Charlie   22     88\n",
      "3    David   32     76\n",
      "---------------------\n",
      "      Name  Age  Score\n",
      "0    Alice   24    100\n",
      "1      Bob   27     95\n",
      "2  Charlie   22    100\n",
      "3    David   32     76\n",
      "---------------------\n"
     ]
    }
   ],
   "source": [
    "# Modifying Data Using `loc`\n",
    "# Changing the score for 'Bob'\n",
    "df.loc[df['Name'] == 'Bob', 'Score'] = 95\n",
    "print(df)\n",
    "print(\"---------------------\")\n",
    "\n",
    "# Setting the score to 100 for all rows where Age < 25\n",
    "df.loc[df['Age'] < 25, 'Score'] = 100\n",
    "print(df)\n",
    "print(\"---------------------\")"
   ]
  },
  {
   "cell_type": "code",
   "execution_count": 42,
   "metadata": {},
   "outputs": [
    {
     "name": "stdout",
     "output_type": "stream",
     "text": [
      "      Name  Score\n",
      "0    Alice    100\n",
      "1      Bob     95\n",
      "2  Charlie    100\n",
      "3    David     76\n",
      "---------------------\n",
      "      Name  Age  Score\n",
      "1      Bob   27     95\n",
      "2  Charlie   22    100\n",
      "3    David   32     76\n",
      "---------------------\n"
     ]
    }
   ],
   "source": [
    "#Slicing with `loc`\n",
    "# Selecting all rows and specific columns\n",
    "print(df.loc[:, ['Name', 'Score']])\n",
    "print(\"---------------------\")\n",
    "\n",
    "# Selecting a range of rows and specific columns\n",
    "print(df.loc[1:3, 'Name':'Score'])\n",
    "print(\"---------------------\")"
   ]
  },
  {
   "cell_type": "markdown",
   "metadata": {},
   "source": [
    "### **Selection by Position (`iloc`) Detailed Use Cases**"
   ]
  },
  {
   "cell_type": "code",
   "execution_count": 44,
   "metadata": {},
   "outputs": [
    {
     "name": "stdout",
     "output_type": "stream",
     "text": [
      "Name     Bob\n",
      "Age       27\n",
      "Score     95\n",
      "Name: 1, dtype: object\n",
      "---------------------\n",
      "27\n",
      "---------------------\n",
      "      Name  Score\n",
      "1      Bob     95\n",
      "2  Charlie    100\n",
      "---------------------\n"
     ]
    }
   ],
   "source": [
    "# Selecting Specific Rows and Columns by Position\n",
    "# Selecting a specific row by position\n",
    "print(df.iloc[1])\n",
    "print(\"---------------------\")\n",
    "\n",
    "# Selecting a specific cell by row and column positions\n",
    "print(df.iloc[1, 1])\n",
    "print(\"---------------------\")\n",
    "\n",
    "# Selecting multiple rows and columns\n",
    "print(df.iloc[1:3, [0, 2]])\n",
    "print(\"---------------------\")"
   ]
  },
  {
   "cell_type": "code",
   "execution_count": 46,
   "metadata": {},
   "outputs": [
    {
     "name": "stdout",
     "output_type": "stream",
     "text": [
      "      Name  Score\n",
      "0    Alice    100\n",
      "1      Bob     95\n",
      "2  Charlie    100\n",
      "3    David     76\n",
      "---------------------\n",
      "      Name  Age\n",
      "1      Bob   27\n",
      "2  Charlie   22\n",
      "---------------------\n"
     ]
    }
   ],
   "source": [
    "# Slicing with `iloc`\n",
    "# Selecting all rows and specific columns by position\n",
    "print(df.iloc[:, [0, 2]])\n",
    "print(\"---------------------\")\n",
    "\n",
    "# Selecting a range of rows and columns by position\n",
    "print(df.iloc[1:3, 0:2])\n",
    "print(\"---------------------\")"
   ]
  },
  {
   "cell_type": "code",
   "execution_count": 47,
   "metadata": {},
   "outputs": [
    {
     "name": "stdout",
     "output_type": "stream",
     "text": [
      "    Name  Age  Score\n",
      "1    Bob   27     95\n",
      "3  David   32     76\n"
     ]
    }
   ],
   "source": [
    "# Boolean Indexing with `iloc`\n",
    "# Using Boolean indexing to select data based on a condition (not common with iloc)\n",
    "indices = df[df['Age'] > 25].index\n",
    "print(df.iloc[indices])"
   ]
  },
  {
   "cell_type": "code",
   "execution_count": 49,
   "metadata": {},
   "outputs": [
    {
     "name": "stdout",
     "output_type": "stream",
     "text": [
      "      Name  Age  Score\n",
      "0    Alice   24    100\n",
      "1      Bob   27     90\n",
      "2  Charlie   22    100\n",
      "3    David   32     76\n",
      "---------------------\n",
      "      Name  Age  Score\n",
      "0    Alice   24    100\n",
      "1      Bob   27    100\n",
      "2  Charlie   22    100\n",
      "3    David   32     76\n",
      "---------------------\n"
     ]
    }
   ],
   "source": [
    "# Modifying Data Using `iloc`\n",
    "# Changing the score at the second row\n",
    "df.iloc[1, 2] = 90\n",
    "print(df)\n",
    "print(\"---------------------\")\n",
    "\n",
    "# Setting the scores to 100 for the first two rows\n",
    "df.iloc[0:2, 2] = 100\n",
    "print(df)\n",
    "print(\"---------------------\")"
   ]
  },
  {
   "cell_type": "markdown",
   "metadata": {},
   "source": [
    "### **Complex Use Cases Combining `loc` and `iloc`**"
   ]
  },
  {
   "cell_type": "code",
   "execution_count": 50,
   "metadata": {},
   "outputs": [
    {
     "name": "stdout",
     "output_type": "stream",
     "text": [
      "    Name  Age  Score\n",
      "1    Bob   27    100\n",
      "3  David   32     76\n",
      "      Name  Age  Score\n",
      "0    Alice   24    100\n",
      "1      Bob   27     90\n",
      "2  Charlie   22    100\n",
      "3    David   32     90\n",
      "    Name  Age\n",
      "1    Bob   27\n",
      "3  David   32\n"
     ]
    }
   ],
   "source": [
    "# Combining Conditions and Slicing\n",
    "# Selecting rows where Age > 25 and then slicing columns\n",
    "print(df.loc[df['Age'] > 25, 'Name':'Score'])\n",
    "print(\"---------------------\")\n",
    "\n",
    "# Modifying specific cells based on conditions\n",
    "df.loc[df['Age'] > 25, 'Score'] = 90\n",
    "print(df)\n",
    "print(\"---------------------\")\n",
    "\n",
    "# Selecting specific rows and then using iloc to further slice columns\n",
    "subset = df.loc[df['Age'] > 25]\n",
    "print(subset.iloc[:, 0:2])\n",
    "print(\"---------------------\")"
   ]
  },
  {
   "cell_type": "markdown",
   "metadata": {},
   "source": [
    "#### Using MultiIndex with `loc` and `iloc`"
   ]
  },
  {
   "cell_type": "code",
   "execution_count": 52,
   "metadata": {},
   "outputs": [
    {
     "name": "stdout",
     "output_type": "stream",
     "text": [
      "        value\n",
      "second       \n",
      "one        10\n",
      "two        20\n",
      "---------------------\n",
      "value    10\n",
      "Name: (A, one), dtype: int64\n",
      "---------------------\n",
      "value    10\n",
      "Name: (A, one), dtype: int64\n",
      "---------------------\n",
      "              value\n",
      "first second       \n",
      "A     one        10\n",
      "      two        20\n",
      "---------------------\n"
     ]
    }
   ],
   "source": [
    "# Sample DataFrame with MultiIndex\n",
    "arrays = [\n",
    "    ['A', 'A', 'B', 'B'],\n",
    "    ['one', 'two', 'one', 'two']\n",
    "]\n",
    "index = pd.MultiIndex.from_arrays(arrays, names=('first', 'second'))\n",
    "df_multi = pd.DataFrame({'value': [10, 20, 30, 40]}, index=index)\n",
    "\n",
    "# Using loc on MultiIndex\n",
    "print(df_multi.loc['A'])\n",
    "print(\"---------------------\")\n",
    "print(df_multi.loc['A', 'one'])\n",
    "print(\"---------------------\")\n",
    "\n",
    "# Using iloc on MultiIndex\n",
    "print(df_multi.iloc[0])\n",
    "print(\"---------------------\")\n",
    "print(df_multi.iloc[0:2])\n",
    "print(\"---------------------\")"
   ]
  }
 ],
 "metadata": {
  "kernelspec": {
   "display_name": "Python 3",
   "language": "python",
   "name": "python3"
  },
  "language_info": {
   "codemirror_mode": {
    "name": "ipython",
    "version": 3
   },
   "file_extension": ".py",
   "mimetype": "text/x-python",
   "name": "python",
   "nbconvert_exporter": "python",
   "pygments_lexer": "ipython3",
   "version": "3.10.11"
  }
 },
 "nbformat": 4,
 "nbformat_minor": 2
}
