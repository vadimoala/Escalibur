{
  "cells": [
    {
      "cell_type": "code",
      "execution_count": 2,
      "id": "95d2986c",
      "metadata": {
        "id": "95d2986c"
      },
      "outputs": [],
      "source": [
        "#Asigurațivă că ați rulat comanda `pip install sigmoid_check` în terminal înainte de a rula acest script.\n",
        "from sigmoid_check.python_warmup import *"
      ]
    },
    {
      "cell_type": "code",
      "execution_count": 4,
      "id": "9ba8741e",
      "metadata": {
        "id": "9ba8741e",
        "outputId": "bc4b2e8e-2f7f-4f94-9b2d-96687f759cad"
      },
      "outputs": [
        {
          "name": "stdout",
          "output_type": "stream",
          "text": [
            "✅ Great job! Exercise completed successfully.\n"
          ]
        }
      ],
      "source": [
        "@check_exercise_1\n",
        "def exercise_1():\n",
        "    # This line is mandatory and should not be removed\n",
        "    ex_stat_init = True\n",
        "\n",
        "    # print the text \"Hello, World!\" to the console;\n",
        "    # BELOW GOES YOUR CODE\n",
        "    print(\"Hello, World!\")\n",
        "    # ABOVE GOES YOUR CODE\n",
        "\n",
        "exercise_1()"
      ]
    },
    {
      "cell_type": "code",
      "execution_count": 4,
      "id": "989693a2",
      "metadata": {
        "id": "989693a2",
        "outputId": "10ebd1a9-24f9-413a-aa2c-4a9219fbd486"
      },
      "outputs": [
        {
          "name": "stdout",
          "output_type": "stream",
          "text": [
            "✅ Great job! Exercise completed successfully.\n"
          ]
        }
      ],
      "source": [
        "@check_exercise_2\n",
        "def exercise_2():\n",
        "    # This line is mandatory and should not be removed\n",
        "    ex_stat_init = True\n",
        "\n",
        "    # print the result of 3 + 5;\n",
        "    # BELOW GOES YOUR CODE\n",
        "    print(3 + 5)\n",
        "    # ABOVE GOES YOUR CODE\n",
        "\n",
        "# Run the exercise\n",
        "exercise_2()"
      ]
    },
    {
      "cell_type": "code",
      "execution_count": 5,
      "id": "9b7f4ffb",
      "metadata": {
        "id": "9b7f4ffb",
        "outputId": "f15f3ba7-8af5-4db9-cc57-1afb0c5cec10"
      },
      "outputs": [
        {
          "name": "stdout",
          "output_type": "stream",
          "text": [
            "✅ Great job! Exercise completed successfully.\n"
          ]
        }
      ],
      "source": [
        "@check_exercise_3\n",
        "def exercise_3():\n",
        "    # This line is mandatory and should not be removed\n",
        "    ex_stat_init = True\n",
        "\n",
        "    # create a variable called \"name\" and assign it the value \"John\";\n",
        "    # BELOW GOES YOUR CODE\n",
        "    name = \"John\"\n",
        "    # ABOVE GOES YOUR CODE\n",
        "\n",
        "    # Return the variables you want to check\n",
        "    return {\"name\": name}\n",
        "\n",
        "# Run the exercise\n",
        "exercise_3()"
      ]
    },
    {
      "cell_type": "code",
      "execution_count": 6,
      "id": "4ea341d6",
      "metadata": {
        "id": "4ea341d6",
        "outputId": "9f18cc39-bf55-4b8f-de53-d37dd6cbd134"
      },
      "outputs": [
        {
          "name": "stdout",
          "output_type": "stream",
          "text": [
            "✅ Great job! Exercise completed successfully.\n"
          ]
        }
      ],
      "source": [
        "@check_exercise_4\n",
        "def exercise_4(name):\n",
        "    # This line is mandatory and should not be removed\n",
        "    ex_stat_init = True\n",
        "\n",
        "    # print the text \"Hello, John!\" to the console using the variable `name`;\n",
        "    # BELOW GOES YOUR CODE\n",
        "    print(f\"Hello, {name}!\")\n",
        "    # ABOVE GOES YOUR CODE\n",
        "\n",
        "# Run the exercise\n",
        "exercise_4()\n"
      ]
    },
    {
      "cell_type": "code",
      "execution_count": 7,
      "id": "53259942",
      "metadata": {
        "id": "53259942",
        "outputId": "9c5d8952-7785-4de7-995b-bc8352239a09"
      },
      "outputs": [
        {
          "name": "stdout",
          "output_type": "stream",
          "text": [
            "✅ Great job! Exercise completed successfully.\n"
          ]
        }
      ],
      "source": [
        "@check_exercise_5\n",
        "def exercise_5():\n",
        "    # This line is mandatory and should not be removed\n",
        "    ex_stat_init = True\n",
        "\n",
        "    # create a variable called \"age\" and assign it the value 25;\n",
        "    # BELOW GOES YOUR CODE\n",
        "    age = 25\n",
        "    # ABOVE GOES YOUR CODE\n",
        "    return {\"age\": age}\n",
        "\n",
        "# Run the exercise\n",
        "exercise_5()"
      ]
    },
    {
      "cell_type": "code",
      "execution_count": 8,
      "id": "de9c1649",
      "metadata": {
        "id": "de9c1649",
        "outputId": "b05ec9cc-1afe-46cc-a116-1d111e1ad02c"
      },
      "outputs": [
        {
          "name": "stdout",
          "output_type": "stream",
          "text": [
            "✅ Great job! Exercise completed successfully.\n"
          ]
        }
      ],
      "source": [
        "@check_exercise_6\n",
        "def exercise_6(name, age):\n",
        "    # This line is mandatory and should not be removed\n",
        "    ex_stat_init = True\n",
        "\n",
        "    # print the text \"John is 25 years old\" to the console using the variables `name` and `age`;\n",
        "    # BELOW GOES YOUR CODE\n",
        "    print(f\"{name} is {age} years old\")\n",
        "    # ABOVE GOES YOUR CODE\n",
        "\n",
        "# Run the exercise\n",
        "exercise_6()"
      ]
    },
    {
      "cell_type": "code",
      "execution_count": 9,
      "id": "93a096d0",
      "metadata": {
        "id": "93a096d0",
        "outputId": "b508e07e-3bca-4bc8-f28a-4d4b34e5b918"
      },
      "outputs": [
        {
          "name": "stdout",
          "output_type": "stream",
          "text": [
            "✅ Great job! Exercise completed successfully.\n"
          ]
        }
      ],
      "source": [
        "@check_exercise_7\n",
        "def exercise_7():\n",
        "    # This line is mandatory and should not be removed\n",
        "    ex_stat_init = True\n",
        "\n",
        "    # create a variable called \"is_old\" and assign it the value True;\n",
        "    # BELOW GOES YOUR CODE\n",
        "    is_old = True\n",
        "    # ABOVE GOES YOUR CODE\n",
        "    return {\"is_old\": is_old}\n",
        "\n",
        "# Run the exercise\n",
        "exercise_7()"
      ]
    },
    {
      "cell_type": "code",
      "execution_count": 10,
      "id": "4c8dd41b",
      "metadata": {
        "id": "4c8dd41b",
        "outputId": "d21d7b3a-d2db-4658-c15b-d2dfe4d1ed06"
      },
      "outputs": [
        {
          "name": "stdout",
          "output_type": "stream",
          "text": [
            "✅ Great job! Exercise completed successfully.\n"
          ]
        }
      ],
      "source": [
        "@check_exercise_8\n",
        "def exercise_8(is_old):\n",
        "    # This line is mandatory and should not be removed\n",
        "    ex_stat_init = True\n",
        "\n",
        "    # print the text \"John is old\" to the console if `is_old` is True;\n",
        "    # BELOW GOES YOUR CODE\n",
        "    if is_old:\n",
        "        print(\"John is old\")\n",
        "    # ABOVE GOES YOUR CODE\n",
        "\n",
        "# Run the exercise\n",
        "exercise_8()"
      ]
    },
    {
      "cell_type": "code",
      "execution_count": 11,
      "id": "b850638b",
      "metadata": {
        "id": "b850638b",
        "outputId": "82d43be9-9e9f-4379-d28c-fa17f5be0b00"
      },
      "outputs": [
        {
          "name": "stdout",
          "output_type": "stream",
          "text": [
            "✅ Great job! Exercise completed successfully.\n"
          ]
        }
      ],
      "source": [
        "@check_exercise_9\n",
        "def exercise_9(name, age):\n",
        "    # This line is mandatory and should not be removed\n",
        "    ex_stat_init = True\n",
        "\n",
        "    # swap the values of the variables `name` and `age` using a third variable;\n",
        "    # BELOW GOES YOUR CODE\n",
        "    temp = name\n",
        "    name = age\n",
        "    age = temp\n",
        "    # ABOVE GOES YOUR CODE\n",
        "    return {\"name\": name, \"age\": age}\n",
        "\n",
        "# Run the exercise\n",
        "exercise_9()"
      ]
    },
    {
      "cell_type": "code",
      "execution_count": 12,
      "id": "07782aa8",
      "metadata": {
        "id": "07782aa8",
        "outputId": "586a7370-aaf5-4c0d-f19b-e8ec653b1e50"
      },
      "outputs": [
        {
          "name": "stdout",
          "output_type": "stream",
          "text": [
            "✅ Great job! Exercise completed successfully.\n"
          ]
        }
      ],
      "source": [
        "@check_exercise_10\n",
        "def exercise_10(name, age):\n",
        "    # This line is mandatory and should not be removed\n",
        "    ex_stat_init = True\n",
        "\n",
        "    # swap the values of the variables `name` and `age` using only two variables;\n",
        "    # BELOW GOES YOUR CODE\n",
        "    name, age = age, name\n",
        "    # ABOVE GOES YOUR CODE\n",
        "    return {\"name\": name, \"age\": age}\n",
        "\n",
        "# Run the exercise\n",
        "exercise_10()"
      ]
    },
    {
      "cell_type": "code",
      "execution_count": 13,
      "id": "b6b5ed54",
      "metadata": {
        "id": "b6b5ed54",
        "outputId": "7dd0513a-25de-4d7e-8fd8-a5c5372ef9a7"
      },
      "outputs": [
        {
          "name": "stdout",
          "output_type": "stream",
          "text": [
            "✅ Great job! Exercise completed successfully.\n"
          ]
        }
      ],
      "source": [
        "@check_exercise_11\n",
        "def exercise_11():\n",
        "    # This line is mandatory and should not be removed\n",
        "    ex_stat_init = True\n",
        "\n",
        "    # create a variable called \"height\" and assign it the value 1.75;\n",
        "    # BELOW GOES YOUR CODE\n",
        "    height = 1.75\n",
        "    # ABOVE GOES YOUR CODE\n",
        "    return {\"height\": height}\n",
        "\n",
        "# Run the exercise\n",
        "exercise_11()"
      ]
    },
    {
      "cell_type": "code",
      "execution_count": 14,
      "id": "b5d888db",
      "metadata": {
        "id": "b5d888db",
        "outputId": "3cd989bf-f1e4-49f4-c5e8-2457ef76e814"
      },
      "outputs": [
        {
          "name": "stdout",
          "output_type": "stream",
          "text": [
            "✅ Great job! Exercise completed successfully.\n"
          ]
        }
      ],
      "source": [
        "@check_exercise_12\n",
        "def exercise_12(name, age, height):\n",
        "    # This line is mandatory and should not be removed\n",
        "    ex_stat_init = True\n",
        "\n",
        "    # print the text \"John is 25 years old and is 1.75m tall\" to the console using the variables `name`, `age` and `height`;\n",
        "    # BELOW GOES YOUR CODE\n",
        "    print(f\"{name} is {age} years old and is {height}m tall\")\n",
        "    # ABOVE GOES YOUR CODE\n",
        "\n",
        "# Run the exercise\n",
        "exercise_12()"
      ]
    },
    {
      "cell_type": "code",
      "execution_count": 15,
      "id": "dc0aa44b",
      "metadata": {
        "id": "dc0aa44b",
        "outputId": "3f9c6307-a15c-424b-fb26-2e4afbada2bd"
      },
      "outputs": [
        {
          "name": "stdout",
          "output_type": "stream",
          "text": [
            "✅ Great job! Exercise completed successfully.\n"
          ]
        }
      ],
      "source": [
        "@check_exercise_13\n",
        "def exercise_13():\n",
        "    # This line is mandatory and should not be removed\n",
        "    ex_stat_init = True\n",
        "\n",
        "    # create a variable called \"is_tall\" and a variable called \"is_old\" and assign them the values True and False, respectively;\n",
        "    # BELOW GOES YOUR CODE\n",
        "    is_tall = True\n",
        "    is_old = False\n",
        "    # ABOVE GOES YOUR CODE\n",
        "    return {\"is_tall\": is_tall, \"is_old\": is_old}\n",
        "\n",
        "# Run the exercise\n",
        "exercise_13()"
      ]
    },
    {
      "cell_type": "code",
      "execution_count": 16,
      "id": "b434afd0",
      "metadata": {
        "id": "b434afd0",
        "outputId": "ec2c199c-645d-4f7d-e5f1-cbade6070567"
      },
      "outputs": [
        {
          "name": "stdout",
          "output_type": "stream",
          "text": [
            "✅ Great job! Exercise completed successfully.\n"
          ]
        }
      ],
      "source": [
        "@check_exercise_14\n",
        "def exercise_14(is_tall, is_old):\n",
        "    # This line is mandatory and should not be removed\n",
        "    ex_stat_init = True\n",
        "\n",
        "    # print the text \"John is tall and old\" to the console if `is_tall` and `is_old` are True;\n",
        "    # BELOW GOES YOUR CODE\n",
        "    if is_tall and is_old:\n",
        "        print(\"John is tall and old\")\n",
        "    # ABOVE GOES YOUR CODE\n",
        "\n",
        "# Run the exercise\n",
        "exercise_14()"
      ]
    },
    {
      "cell_type": "code",
      "execution_count": 17,
      "id": "e1ad0e14",
      "metadata": {
        "id": "e1ad0e14",
        "outputId": "0d9fb25c-e0a4-43dc-b412-3462c6ebb84e"
      },
      "outputs": [
        {
          "name": "stdout",
          "output_type": "stream",
          "text": [
            "✅ Great job! Exercise completed successfully.\n"
          ]
        }
      ],
      "source": [
        "@check_exercise_15\n",
        "def exercise_15(is_tall, is_old):\n",
        "    # This line is mandatory and should not be removed\n",
        "    ex_stat_init = True\n",
        "\n",
        "    # print the text \"John is tall or old\" to the console if `is_tall` or `is_old` are True;\n",
        "    # BELOW GOES YOUR CODE\n",
        "    if is_tall or is_old:\n",
        "        print(\"John is tall or old\")\n",
        "    # ABOVE GOES YOUR CODE\n",
        "\n",
        "# Run the exercise\n",
        "exercise_15()"
      ]
    },
    {
      "cell_type": "code",
      "execution_count": 18,
      "id": "d7837323",
      "metadata": {
        "id": "d7837323",
        "outputId": "00c9ecd8-a53e-44ba-ef1e-6a44a9589b18"
      },
      "outputs": [
        {
          "name": "stdout",
          "output_type": "stream",
          "text": [
            "✅ Great job! Exercise completed successfully.\n"
          ]
        }
      ],
      "source": [
        "@check_exercise_16\n",
        "def exercise_16(is_tall):\n",
        "    # This line is mandatory and should not be removed\n",
        "    ex_stat_init = True\n",
        "\n",
        "    # print the text \"John is not tall\" to the console if `is_tall` is False;\n",
        "    # BELOW GOES YOUR CODE\n",
        "    if not is_tall:\n",
        "        print(\"John is not tall\")\n",
        "    # ABOVE GOES YOUR CODE\n",
        "\n",
        "# Run the exercise\n",
        "exercise_16()"
      ]
    },
    {
      "cell_type": "code",
      "execution_count": 19,
      "id": "320836cb",
      "metadata": {
        "id": "320836cb",
        "outputId": "7e2832ab-f33c-402d-8729-2bcbb40e5c8f"
      },
      "outputs": [
        {
          "name": "stdout",
          "output_type": "stream",
          "text": [
            "✅ Great job! Exercise completed successfully.\n"
          ]
        }
      ],
      "source": [
        "@check_exercise_17\n",
        "def exercise_17(is_old):\n",
        "    # This line is mandatory and should not be removed\n",
        "    ex_stat_init = True\n",
        "\n",
        "    # print the text \"John is not old\" to the console if `is_old` is False;\n",
        "    # BELOW GOES YOUR CODE\n",
        "    if not is_old:\n",
        "        print(\"John is not old\")\n",
        "    # ABOVE GOES YOUR CODE\n",
        "\n",
        "# Run the exercise\n",
        "exercise_17()"
      ]
    },
    {
      "cell_type": "code",
      "execution_count": 20,
      "id": "67221c1c",
      "metadata": {
        "id": "67221c1c",
        "outputId": "5850033c-b73f-4ee8-c7b3-d0c78f9f20de"
      },
      "outputs": [
        {
          "name": "stdout",
          "output_type": "stream",
          "text": [
            "✅ Great job! Exercise completed successfully.\n"
          ]
        }
      ],
      "source": [
        "@check_exercise_18\n",
        "def exercise_18(is_tall, is_old):\n",
        "    # This line is mandatory and should not be removed\n",
        "    ex_stat_init = True\n",
        "\n",
        "    # print the text \"John is tall and not old\" to the console if `is_tall` is True and `is_old` is False;\n",
        "    # BELOW GOES YOUR CODE\n",
        "    if is_tall is True and is_old is False:\n",
        "        print(\"John is tall and not old\")\n",
        "    # ABOVE GOES YOUR CODE\n",
        "\n",
        "# Run the exercise\n",
        "exercise_18()"
      ]
    },
    {
      "cell_type": "code",
      "execution_count": 21,
      "id": "b9255bec",
      "metadata": {
        "id": "b9255bec",
        "outputId": "f2fb4999-086a-4c6f-8b79-d2f16007111e"
      },
      "outputs": [
        {
          "name": "stdout",
          "output_type": "stream",
          "text": [
            "✅ Great job! Exercise completed successfully.\n"
          ]
        }
      ],
      "source": [
        "@check_exercise_19\n",
        "def exercise_19(is_tall, is_old):\n",
        "    # This line is mandatory and should not be removed\n",
        "    ex_stat_init = True\n",
        "\n",
        "    # print the text \"John is not tall and old\" to the console if `is_tall` is False and `is_old` is True;\n",
        "    # BELOW GOES YOUR CODE\n",
        "    if is_tall is False and is_old is True:\n",
        "        print(\"John is not tall and old\")\n",
        "    # ABOVE GOES YOUR CODE\n",
        "\n",
        "# Run the exercise\n",
        "exercise_19()"
      ]
    },
    {
      "cell_type": "code",
      "execution_count": 22,
      "id": "4b27d8da",
      "metadata": {
        "id": "4b27d8da",
        "outputId": "ced17c79-b65c-424b-aa50-93d34e84b4eb"
      },
      "outputs": [
        {
          "name": "stdout",
          "output_type": "stream",
          "text": [
            "✅ Great job! Exercise completed successfully.\n"
          ]
        }
      ],
      "source": [
        "@check_exercise_20\n",
        "def exercise_20(age):\n",
        "    # This line is mandatory and should not be removed\n",
        "    ex_stat_init = True\n",
        "\n",
        "    # print the text \"John is older than 30\" to the console if `age` is greater than 30;\n",
        "    # BELOW GOES YOUR CODE\n",
        "    if age > 30:\n",
        "        print(\"John is older than 30\")\n",
        "    # ABOVE GOES YOUR CODE\n",
        "\n",
        "# Run the exercise\n",
        "exercise_20()"
      ]
    },
    {
      "cell_type": "code",
      "execution_count": 23,
      "id": "93238aa5",
      "metadata": {
        "id": "93238aa5",
        "outputId": "3b437f2d-c660-4eff-dfe9-52649a81a975"
      },
      "outputs": [
        {
          "name": "stdout",
          "output_type": "stream",
          "text": [
            "✅ Great job! Exercise completed successfully.\n"
          ]
        }
      ],
      "source": [
        "@check_exercise_21\n",
        "def exercise_21(age):\n",
        "    # This line is mandatory and should not be removed\n",
        "    ex_stat_init = True\n",
        "\n",
        "    # print the text \"John is younger than 30\" to the console if `age` is less than 30;\n",
        "    # BELOW GOES YOUR CODE\n",
        "    if age < 30:\n",
        "        print(\"John is younger than 30\")\n",
        "    # ABOVE GOES YOUR CODE\n",
        "\n",
        "# Run the exercise\n",
        "exercise_21()"
      ]
    },
    {
      "cell_type": "code",
      "execution_count": 24,
      "id": "b412b158",
      "metadata": {
        "id": "b412b158",
        "outputId": "22cdc0f7-9e90-4e1b-8975-f27f7745e327"
      },
      "outputs": [
        {
          "name": "stdout",
          "output_type": "stream",
          "text": [
            "✅ Great job! Exercise completed successfully.\n"
          ]
        }
      ],
      "source": [
        "@check_exercise_22\n",
        "def exercise_22():\n",
        "    # This line is mandatory and should not be removed\n",
        "    ex_stat_init = True\n",
        "\n",
        "    # create a variable `x` and assign it the value 42; create a variable `y` and assign it the value 9; create a variable `z` and assign it the value 7;\n",
        "    # BELOW GOES YOUR CODE\n",
        "    x = 42\n",
        "    y = 9\n",
        "    z = 7\n",
        "    # ABOVE GOES YOUR CODE\n",
        "    return {\"x\": x, \"y\": y, \"z\": z}\n",
        "\n",
        "# Run the exercise\n",
        "exercise_22()"
      ]
    },
    {
      "cell_type": "code",
      "execution_count": 25,
      "id": "b390ee85",
      "metadata": {
        "id": "b390ee85",
        "outputId": "8b33e014-0825-46f5-de84-cfd996ca2a1e"
      },
      "outputs": [
        {
          "name": "stdout",
          "output_type": "stream",
          "text": [
            "✅ Great job! Exercise completed successfully.\n"
          ]
        }
      ],
      "source": [
        "@check_exercise_23\n",
        "def exercise_23(x, y, z):\n",
        "    # This line is mandatory and should not be removed\n",
        "    ex_stat_init = True\n",
        "\n",
        "    # create a dictionary called `computations` with the keys \"add_x_y\", \"add_x_z\", \"add_y_z\", \"sub_x_y\", \"sub_x_z\", \"sub_y_z\", \"mul_x_y\", \"mul_x_z\", \"mul_y_z\", \"div_x_y\", \"div_x_z\", \"div_y_z\", \"mod_x_y\", \"mod_x_z\", \"mod_y_z\", \"pow_x_y\", \"pow_x_z\", \"pow_y_z\" and the values the results of the respective operations;\n",
        "    # BELOW GOES YOUR CODE\n",
        "    computations = {\n",
        "    \"add_x_y\": x + y,\n",
        "    \"add_x_z\": x + z,\n",
        "    \"add_y_z\": y + z,\n",
        "    \"sub_x_y\": x - y,\n",
        "    \"sub_x_z\": x - z,\n",
        "    \"sub_y_z\": y - z,\n",
        "    \"mul_x_y\": x * y,\n",
        "    \"mul_x_z\": x * z,\n",
        "    \"mul_y_z\": y * z,\n",
        "    \"div_x_y\": x / y if y != 0 else None,\n",
        "    \"div_x_z\": x / z if z != 0 else None,\n",
        "    \"div_y_z\": y / z if z != 0 else None,\n",
        "    \"mod_x_y\": x % y,\n",
        "    \"mod_x_z\": x % z,\n",
        "    \"mod_y_z\": y % z,\n",
        "    \"pow_x_y\": x ** y,\n",
        "    \"pow_x_z\": x ** z,\n",
        "    \"pow_y_z\": y ** z,\n",
        "}\n",
        "    # ABOVE GOES YOUR CODE\n",
        "    return {\n",
        "        \"computations\": computations\n",
        "    }\n",
        "\n",
        "# Run the exercise\n",
        "exercise_23()"
      ]
    },
    {
      "cell_type": "code",
      "execution_count": 26,
      "id": "da732269",
      "metadata": {
        "id": "da732269",
        "outputId": "db547179-d9b0-4024-ddaa-dfc7cb82fc5a"
      },
      "outputs": [
        {
          "name": "stdout",
          "output_type": "stream",
          "text": [
            "❗ The implementation is incorrect or the exercise was not implemented.\n"
          ]
        }
      ],
      "source": [
        "@check_exercise_24\n",
        "def exercise_24(coordinates):\n",
        "    # This line is mandatory and should not be removed\n",
        "    ex_stat_init = True\n",
        "\n",
        "    # given a tuple `coordinates` with the values (1, 2, 3), unpack the values into the variables `x`, `y` and `z`;\n",
        "    # BELOW GOES YOUR CODE\n",
        "    coordinates = (1, 2, 3)\n",
        "    x, y, z = coordinates\n",
        "\n",
        "    # ABOVE GOES YOUR CODE\n",
        "    return {\n",
        "        \"x\": x,\n",
        "        \"y\": y,\n",
        "        \"z\": z\n",
        "    }\n",
        "\n",
        "# Run the exercise\n",
        "exercise_24()"
      ]
    },
    {
      "cell_type": "code",
      "execution_count": 27,
      "id": "e78dd8c6",
      "metadata": {
        "id": "e78dd8c6",
        "outputId": "4daecbe5-ea00-481b-e900-32dfa10e14b2"
      },
      "outputs": [
        {
          "name": "stdout",
          "output_type": "stream",
          "text": [
            "✅ Great job! Exercise completed successfully.\n"
          ]
        }
      ],
      "source": [
        "@check_exercise_25\n",
        "def exercise_25(x, y, z):\n",
        "    # This line is mandatory and should not be removed\n",
        "    ex_stat_init = True\n",
        "\n",
        "    # create a tuple called `coordinates` with the values of the variables `x`, `y` and `z`;\n",
        "    # BELOW GOES YOUR CODE\n",
        "    coordinates = (x, y, z)\n",
        "    # ABOVE GOES YOUR CODE\n",
        "    return {\n",
        "        \"coordinates\": coordinates\n",
        "    }\n",
        "\n",
        "# Run the exercise\n",
        "exercise_25()"
      ]
    },
    {
      "cell_type": "code",
      "execution_count": 28,
      "id": "6feefbc2",
      "metadata": {
        "id": "6feefbc2",
        "outputId": "e086a156-6f83-40a3-d03f-fc93df292f8a"
      },
      "outputs": [
        {
          "name": "stdout",
          "output_type": "stream",
          "text": [
            "✅ Great job! Exercise completed successfully.\n"
          ]
        }
      ],
      "source": [
        "@check_exercise_26\n",
        "def exercise_26(number1, number2):\n",
        "    # This line is mandatory and should not be removed\n",
        "    ex_stat_init = True\n",
        "\n",
        "    # convert the variable `number1` from float to integer and `number2` from integer to float;\n",
        "    # BELOW GOES YOUR CODE\n",
        "    number1 = int(number1)\n",
        "    number2 = float(number2)\n",
        "    # ABOVE GOES YOUR CODE\n",
        "    return {\n",
        "        \"number1\": number1,\n",
        "        \"number2\": number2\n",
        "    }\n",
        "\n",
        "# Run the exercise\n",
        "exercise_26()"
      ]
    },
    {
      "cell_type": "code",
      "execution_count": 29,
      "id": "1e0cee28",
      "metadata": {
        "id": "1e0cee28",
        "outputId": "a2932b42-a54b-4c2e-cbe4-5f9d56e5009a"
      },
      "outputs": [
        {
          "name": "stdout",
          "output_type": "stream",
          "text": [
            "✅ Great job! Exercise completed successfully.\n"
          ]
        }
      ],
      "source": [
        "@check_exercise_27\n",
        "def exercise_27(elements1, elements2):\n",
        "    # This line is mandatory and should not be removed\n",
        "    ex_stat_init = True\n",
        "\n",
        "    # convert the variable `elements1` from a list to a tuple and `elements2` from a tuple to a list;\n",
        "    # BELOW GOES YOUR CODE\n",
        "    elements1 = tuple(elements1)\n",
        "    elements2 = list(elements2)\n",
        "    # ABOVE GOES YOUR CODE\n",
        "    return {\n",
        "        \"elements1\": elements1,\n",
        "        \"elements2\": elements2\n",
        "    }\n",
        "\n",
        "# Run the exercise\n",
        "exercise_27()"
      ]
    },
    {
      "cell_type": "code",
      "execution_count": 30,
      "id": "f61b760d",
      "metadata": {
        "id": "f61b760d",
        "outputId": "239f1fa4-f716-45f8-998b-a67420e4e90d"
      },
      "outputs": [
        {
          "name": "stdout",
          "output_type": "stream",
          "text": [
            "✅ Great job! Exercise completed successfully.\n"
          ]
        }
      ],
      "source": [
        "@check_exercise_28\n",
        "def exercise_28(elements):\n",
        "    # This line is mandatory and should not be removed\n",
        "    ex_stat_init = True\n",
        "\n",
        "    # given the list `elements`, set the value true to the variable `present` if the element \"Python\" is in the list, otherwise return false;\n",
        "    # BELOW GOES YOUR CODE\n",
        "    present = \"Python\" in elements\n",
        "    # ABOVE GOES YOUR CODE\n",
        "    return {\n",
        "        \"present\": present\n",
        "    }\n",
        "\n",
        "# Run the exercise\n",
        "exercise_28()"
      ]
    },
    {
      "cell_type": "code",
      "execution_count": 31,
      "id": "78367a15",
      "metadata": {
        "id": "78367a15",
        "outputId": "3f14c4c2-9523-4e90-d605-70afb43dfdd2"
      },
      "outputs": [
        {
          "name": "stdout",
          "output_type": "stream",
          "text": [
            "✅ Great job! Exercise completed successfully.\n"
          ]
        }
      ],
      "source": [
        "@check_exercise_29\n",
        "def exercise_29(elements, to_check):\n",
        "    # This line is mandatory and should not be removed\n",
        "    ex_stat_init = True\n",
        "\n",
        "    # given the list `elements` and the list `to_check`, create the dictionary `presence` with the keys being the elements of `to_check` and the values being True if the element is in `elements`, otherwise False;\n",
        "    # BELOW GOES YOUR CODE\n",
        "    presence = {item: (item in elements) for item in to_check}\n",
        "    # ABOVE GOES YOUR CODE\n",
        "    return {\n",
        "        \"presence\": presence\n",
        "    }\n",
        "\n",
        "# Run the exercise\n",
        "exercise_29()"
      ]
    },
    {
      "cell_type": "code",
      "execution_count": 32,
      "id": "6f54999d",
      "metadata": {
        "id": "6f54999d",
        "outputId": "25af8386-7e33-4533-b8a6-85ec4b961270"
      },
      "outputs": [
        {
          "name": "stdout",
          "output_type": "stream",
          "text": [
            "✅ Great job! Exercise completed successfully.\n"
          ]
        }
      ],
      "source": [
        "@check_exercise_30\n",
        "def exercise_30(text_to_repeat):\n",
        "    # This line is mandatory and should not be removed\n",
        "    ex_stat_init = True\n",
        "\n",
        "    # given the variable `text_to_repeat`, repeat it 5 times and assign it to the variable `text`;\n",
        "    # BELOW GOES YOUR CODE\n",
        "    text = text_to_repeat * 5\n",
        "    # ABOVE GOES YOUR CODE\n",
        "    return {\n",
        "        \"text\": text\n",
        "    }\n",
        "\n",
        "# Run the exercise\n",
        "exercise_30()"
      ]
    },
    {
      "cell_type": "code",
      "execution_count": 33,
      "id": "a0c70774",
      "metadata": {
        "id": "a0c70774",
        "outputId": "3fa32209-875c-4244-ed35-c96feb989620"
      },
      "outputs": [
        {
          "name": "stdout",
          "output_type": "stream",
          "text": [
            "✅ Great job! Exercise completed successfully.\n"
          ]
        }
      ],
      "source": [
        "@check_exercise_31\n",
        "def exercise_31(text):\n",
        "    # This line is mandatory and should not be removed\n",
        "    ex_stat_init = True\n",
        "\n",
        "    # given the variable `text`, assign to the variable `text` the first 5 characters of the string;\n",
        "    # BELOW GOES YOUR CODE\n",
        "    text = text[:5]\n",
        "    # ABOVE GOES YOUR CODE\n",
        "    return {\n",
        "        \"text\": text\n",
        "    }\n",
        "\n",
        "# Run the exercise\n",
        "exercise_31()"
      ]
    },
    {
      "cell_type": "code",
      "execution_count": 34,
      "id": "14296056",
      "metadata": {
        "id": "14296056",
        "outputId": "73387e94-8158-474e-f2d9-1a43042cf64e"
      },
      "outputs": [
        {
          "name": "stdout",
          "output_type": "stream",
          "text": [
            "✅ Great job! Exercise completed successfully.\n"
          ]
        }
      ],
      "source": [
        "@check_exercise_32\n",
        "def exercise_32(text):\n",
        "    # This line is mandatory and should not be removed\n",
        "    ex_stat_init = True\n",
        "\n",
        "    # given the variable `text`, assign the last 5 characters to the variable `last_five`;\n",
        "    # BELOW GOES YOUR CODE\n",
        "    last_five = text[-5:]\n",
        "    # ABOVE GOES YOUR CODE\n",
        "    return {\n",
        "        \"last_five\": last_five\n",
        "    }\n",
        "\n",
        "# Run the exercise\n",
        "exercise_32()"
      ]
    },
    {
      "cell_type": "code",
      "execution_count": 35,
      "id": "b0db2cb6",
      "metadata": {
        "id": "b0db2cb6",
        "outputId": "91f6663f-0def-40a6-e1ac-517176cc44e7"
      },
      "outputs": [
        {
          "name": "stdout",
          "output_type": "stream",
          "text": [
            "✅ Great job! Exercise completed successfully.\n"
          ]
        }
      ],
      "source": [
        "@check_exercise_33\n",
        "def exercise_33(text):\n",
        "    # This line is mandatory and should not be removed\n",
        "    ex_stat_init = True\n",
        "\n",
        "    # given the variable `text`, change the text in uppercase;\n",
        "    # BELOW GOES YOUR CODE\n",
        "    text = text.upper()\n",
        "    # ABOVE GOES YOUR CODE\n",
        "    return {\n",
        "        \"text\": text\n",
        "    }\n",
        "\n",
        "# Run the exercise\n",
        "exercise_33()"
      ]
    },
    {
      "cell_type": "code",
      "execution_count": 36,
      "id": "f15295e0",
      "metadata": {
        "id": "f15295e0",
        "outputId": "87ba6a92-00a5-4fd2-f38f-6d3cdfa414c2"
      },
      "outputs": [
        {
          "name": "stdout",
          "output_type": "stream",
          "text": [
            "✅ Great job! Exercise completed successfully.\n"
          ]
        }
      ],
      "source": [
        "@check_exercise_34\n",
        "def exercise_34(text):\n",
        "    # This line is mandatory and should not be removed\n",
        "    ex_stat_init = True\n",
        "\n",
        "    # given the variable `text`, change the the text in lowercase;\n",
        "    # BELOW GOES YOUR CODE\n",
        "    text = text.lower()\n",
        "    # ABOVE GOES YOUR CODE\n",
        "    return {\n",
        "        \"text\": text\n",
        "    }\n",
        "\n",
        "# Run the exercise\n",
        "exercise_34()"
      ]
    },
    {
      "cell_type": "code",
      "execution_count": 37,
      "id": "62974cb6",
      "metadata": {
        "id": "62974cb6",
        "outputId": "69d4c812-0bb5-46a1-e094-5c1cabbef6cb"
      },
      "outputs": [
        {
          "name": "stdout",
          "output_type": "stream",
          "text": [
            "✅ Great job! Exercise completed successfully.\n"
          ]
        }
      ],
      "source": [
        "@check_exercise_35\n",
        "def exercise_35(text):\n",
        "    # This line is mandatory and should not be removed\n",
        "    ex_stat_init = True\n",
        "\n",
        "    # given the variable `text`, change the text with the first letter in uppercase;\n",
        "    # BELOW GOES YOUR CODE\n",
        "    text = text.capitalize()\n",
        "    # ABOVE GOES YOUR CODE\n",
        "    return {\n",
        "        \"text\": text\n",
        "    }\n",
        "\n",
        "# Run the exercise\n",
        "exercise_35()"
      ]
    },
    {
      "cell_type": "code",
      "execution_count": 38,
      "id": "f6daf14d",
      "metadata": {
        "id": "f6daf14d",
        "outputId": "f94dbb4c-ca8f-4a4a-ac92-ed37de47186b"
      },
      "outputs": [
        {
          "name": "stdout",
          "output_type": "stream",
          "text": [
            "✅ Great job! Exercise completed successfully.\n"
          ]
        }
      ],
      "source": [
        "@check_exercise_36\n",
        "def exercise_36(text):\n",
        "    # This line is mandatory and should not be removed\n",
        "    ex_stat_init = True\n",
        "\n",
        "    # given the variable `text`, assignt the 18th character to the variable `char`;\n",
        "    # BELOW GOES YOUR CODE\n",
        "    char = text[17]\n",
        "    # ABOVE GOES YOUR CODE\n",
        "    return {\n",
        "        \"char\": char\n",
        "    }\n",
        "\n",
        "# Run the exercise\n",
        "exercise_36()"
      ]
    },
    {
      "cell_type": "code",
      "execution_count": 39,
      "id": "79ced7a1",
      "metadata": {
        "id": "79ced7a1",
        "outputId": "df7bd84d-73ac-4fa1-fff7-f7c3eaae7aa3"
      },
      "outputs": [
        {
          "name": "stdout",
          "output_type": "stream",
          "text": [
            "✅ Great job! Exercise completed successfully.\n"
          ]
        }
      ],
      "source": [
        "@check_exercise_37\n",
        "def exercise_37(text):\n",
        "    # This line is mandatory and should not be removed\n",
        "    ex_stat_init = True\n",
        "\n",
        "    # given the variable `text`, assign the last character to the variable `last_char`;\n",
        "    # BELOW GOES YOUR CODE\n",
        "    last_char = text[-1]\n",
        "    # ABOVE GOES YOUR CODE\n",
        "    return {\n",
        "        \"last_char\": last_char\n",
        "    }\n",
        "\n",
        "# Run the exercise\n",
        "exercise_37()"
      ]
    },
    {
      "cell_type": "code",
      "execution_count": 40,
      "id": "c7f9c0fe",
      "metadata": {
        "id": "c7f9c0fe",
        "outputId": "25ae61c8-2f19-4916-a84b-1a71fea7431b"
      },
      "outputs": [
        {
          "name": "stdout",
          "output_type": "stream",
          "text": [
            "✅ Great job! Exercise completed successfully.\n"
          ]
        }
      ],
      "source": [
        "@check_exercise_38\n",
        "def exericse_38(text):\n",
        "    # This line is mandatory and should not be removed\n",
        "    ex_stat_init = True\n",
        "\n",
        "    # given the variable `text`, extract every third character starting the first one and assign it to the variable `every_third`;\n",
        "    # BELOW GOES YOUR CODE\n",
        "    every_third = text[::3]\n",
        "    # ABOVE GOES YOUR CODE\n",
        "    return {\n",
        "        \"every_third\": every_third\n",
        "    }\n",
        "\n",
        "# Run the exercise\n",
        "exericse_38()"
      ]
    },
    {
      "cell_type": "code",
      "execution_count": 41,
      "id": "429e5b48",
      "metadata": {
        "id": "429e5b48",
        "outputId": "0b68906f-1355-47dd-c237-6f8c9df99cd0"
      },
      "outputs": [
        {
          "name": "stdout",
          "output_type": "stream",
          "text": [
            "✅ Great job! Exercise completed successfully.\n"
          ]
        }
      ],
      "source": [
        "@check_exercise_39\n",
        "def exercise_39(text):\n",
        "    # This line is mandatory and should not be removed\n",
        "    ex_stat_init = True\n",
        "\n",
        "    # given the variable `text`, extract every third character starting the second one and assign it to the variable `every_third`;\n",
        "    # BELOW GOES YOUR CODE\n",
        "    every_third = text[1::3]\n",
        "    # ABOVE GOES YOUR CODE\n",
        "    return {\n",
        "        \"every_third\": every_third\n",
        "    }\n",
        "\n",
        "# Run the exercise\n",
        "exercise_39()"
      ]
    },
    {
      "cell_type": "code",
      "execution_count": 42,
      "id": "d739b16b",
      "metadata": {
        "id": "d739b16b",
        "outputId": "4a831329-331e-49f3-b09d-5adcc4c78d68"
      },
      "outputs": [
        {
          "name": "stdout",
          "output_type": "stream",
          "text": [
            "✅ Great job! Exercise completed successfully.\n"
          ]
        }
      ],
      "source": [
        "@check_exercise_40\n",
        "def exercise_40(text):\n",
        "    # This line is mandatory and should not be removed\n",
        "    ex_stat_init = True\n",
        "\n",
        "    # given the variable `text` assign to the variable `length` the length of the string;\n",
        "    # BELOW GOES YOUR CODE\n",
        "    length = len(text)\n",
        "    # ABOVE GOES YOUR CODE\n",
        "    return {\n",
        "        \"length\": length\n",
        "    }\n",
        "\n",
        "# Run the exercise\n",
        "exercise_40()"
      ]
    },
    {
      "cell_type": "code",
      "execution_count": 43,
      "id": "9b6d11bc",
      "metadata": {
        "id": "9b6d11bc",
        "outputId": "2d9f755b-0bb2-4e8b-bbb4-6c7ed92a0001"
      },
      "outputs": [
        {
          "name": "stdout",
          "output_type": "stream",
          "text": [
            "✅ Great job! Exercise completed successfully.\n"
          ]
        }
      ],
      "source": [
        "@check_exercise_41\n",
        "def exercise_41(text):\n",
        "    # This line is mandatory and should not be removed\n",
        "    ex_stat_init = True\n",
        "\n",
        "    # given the variable `text`, assign to the variable `words` the number of words in the string;\n",
        "    # BELOW GOES YOUR CODE\n",
        "    words = len(text.split())\n",
        "    # ABOVE GOES YOUR CODE\n",
        "    return {\n",
        "        \"words\": words\n",
        "    }\n",
        "\n",
        "# Run the exercise\n",
        "exercise_41()"
      ]
    },
    {
      "cell_type": "code",
      "execution_count": 44,
      "id": "ab545364",
      "metadata": {
        "id": "ab545364",
        "outputId": "1876fd32-a178-45af-d405-2a20d15d5ae3"
      },
      "outputs": [
        {
          "name": "stdout",
          "output_type": "stream",
          "text": [
            "✅ Great job! Exercise completed successfully.\n"
          ]
        }
      ],
      "source": [
        "@check_exercise_42\n",
        "def exercise_42(text):\n",
        "    # This line is mandatory and should not be removed\n",
        "    ex_stat_init = True\n",
        "\n",
        "    # given the variable `text`, assign to the variable `words` a list with all the words in the string;\n",
        "    # BELOW GOES YOUR CODE\n",
        "    words = text.split()\n",
        "    # ABOVE GOES YOUR CODE\n",
        "    return {\n",
        "        \"words\": words\n",
        "    }\n",
        "\n",
        "# Run the exercise\n",
        "exercise_42()"
      ]
    },
    {
      "cell_type": "code",
      "execution_count": 45,
      "id": "4ea4b385",
      "metadata": {
        "id": "4ea4b385",
        "outputId": "35aeb68b-7b92-4d5b-fc4d-937f88740cbb"
      },
      "outputs": [
        {
          "name": "stdout",
          "output_type": "stream",
          "text": [
            "✅ Great job! Exercise completed successfully.\n"
          ]
        }
      ],
      "source": [
        "@check_exercise_43\n",
        "def exercise_43(elements):\n",
        "    # This line is mandatory and should not be removed\n",
        "    ex_stat_init = True\n",
        "\n",
        "    # given the list `elements`, assign to the variable `last_element` the last element of the list;\n",
        "    # BELOW GOES YOUR CODE\n",
        "    last_element = elements[-1]\n",
        "    # ABOVE GOES YOUR CODE\n",
        "    return {\n",
        "        \"last_element\": last_element\n",
        "    }\n",
        "\n",
        "# Run the exercise\n",
        "exercise_43()"
      ]
    },
    {
      "cell_type": "code",
      "execution_count": 46,
      "id": "065f0b86",
      "metadata": {
        "id": "065f0b86",
        "outputId": "6a023eb1-7b4d-4177-88fc-a3439eeca706"
      },
      "outputs": [
        {
          "name": "stdout",
          "output_type": "stream",
          "text": [
            "✅ Great job! Exercise completed successfully.\n"
          ]
        }
      ],
      "source": [
        "@check_exercise_44\n",
        "def exercise_44(elements):\n",
        "    # This line is mandatory and should not be removed\n",
        "    ex_stat_init = True\n",
        "\n",
        "    # given the list `elements`, assign to the variable `first_half` the first half of the list;\n",
        "    # BELOW GOES YOUR CODE\n",
        "    midpoint = len(elements) // 2\n",
        "    first_half = elements[:midpoint]\n",
        "    # ABOVE GOES YOUR CODE\n",
        "    return {\n",
        "        \"first_half\": first_half\n",
        "    }\n",
        "\n",
        "# Run the exercise\n",
        "exercise_44()"
      ]
    },
    {
      "cell_type": "code",
      "execution_count": 47,
      "id": "aff6ea2e",
      "metadata": {
        "id": "aff6ea2e",
        "outputId": "abc3fe4b-5188-4d6d-efe4-b07f6b9673ef"
      },
      "outputs": [
        {
          "name": "stdout",
          "output_type": "stream",
          "text": [
            "✅ Great job! Exercise completed successfully.\n"
          ]
        }
      ],
      "source": [
        "@check_exercise_45\n",
        "def exercise_45(elements):\n",
        "    # This line is mandatory and should not be removed\n",
        "    ex_stat_init = True\n",
        "\n",
        "    # given the list `elements`, assign to the variable `second_half` the second half of the list;\n",
        "    # BELOW GOES YOUR CODE\n",
        "    midpoint = len(elements) // 2\n",
        "    second_half = elements[midpoint:]\n",
        "    # ABOVE GOES YOUR CODE\n",
        "    return {\n",
        "        \"second_half\": second_half\n",
        "    }\n",
        "\n",
        "# Run the exercise\n",
        "exercise_45()"
      ]
    },
    {
      "cell_type": "code",
      "execution_count": 48,
      "id": "bb5c1da4",
      "metadata": {
        "id": "bb5c1da4",
        "outputId": "740eeb6c-c4d2-4036-ac27-29047c00abd7"
      },
      "outputs": [
        {
          "name": "stdout",
          "output_type": "stream",
          "text": [
            "✅ Great job! Exercise completed successfully.\n"
          ]
        }
      ],
      "source": [
        "@check_exercise_46\n",
        "def exercise_46(elements):\n",
        "    # This line is mandatory and should not be removed\n",
        "    ex_stat_init = True\n",
        "\n",
        "    # given the list `elements`, assign to the variable `middle` the middle element of the list given that the list has an odd number of elements;\n",
        "    # BELOW GOES YOUR CODE\n",
        "    midpoint = len(elements) // 2\n",
        "    middle = elements[midpoint]\n",
        "    # ABOVE GOES YOUR CODE\n",
        "    return {\n",
        "        \"middle\": middle\n",
        "    }\n",
        "\n",
        "# Run the exercise\n",
        "exercise_46()"
      ]
    },
    {
      "cell_type": "code",
      "execution_count": 49,
      "id": "443f5690",
      "metadata": {
        "id": "443f5690",
        "outputId": "d6fd0e5a-07a0-4100-947d-20114c00120a"
      },
      "outputs": [
        {
          "name": "stdout",
          "output_type": "stream",
          "text": [
            "✅ Great job! Exercise completed successfully.\n"
          ]
        }
      ],
      "source": [
        "@check_exercise_47\n",
        "def exercise_47(elements):\n",
        "    # This line is mandatory and should not be removed\n",
        "    ex_stat_init = True\n",
        "\n",
        "    # given the list `elements`, assign to the variable `sorted_elements` the list sorted in ascending order;\n",
        "    # BELOW GOES YOUR CODE\n",
        "    sorted_elements = sorted(elements)\n",
        "    # ABOVE GOES YOUR CODE\n",
        "    return {\n",
        "        \"sorted_elements\": sorted_elements\n",
        "    }\n",
        "\n",
        "# Run the exercise\n",
        "exercise_47()"
      ]
    },
    {
      "cell_type": "code",
      "execution_count": 50,
      "id": "4cf47964",
      "metadata": {
        "id": "4cf47964",
        "outputId": "fff37d76-4402-44c6-9c8c-9203ac7d080f"
      },
      "outputs": [
        {
          "name": "stdout",
          "output_type": "stream",
          "text": [
            "✅ Great job! Exercise completed successfully.\n"
          ]
        }
      ],
      "source": [
        "@check_exercise_48\n",
        "def exercise_48(elements):\n",
        "    # This line is mandatory and should not be removed\n",
        "    ex_stat_init = True\n",
        "\n",
        "    # given the list `elements`, assign to the variable `reversed_elements` the list in reverse order;\n",
        "    # BELOW GOES YOUR CODE\n",
        "    reversed_elements = elements[::-1]\n",
        "    # ABOVE GOES YOUR CODE\n",
        "    return {\n",
        "        \"reversed_elements\": reversed_elements\n",
        "    }\n",
        "\n",
        "# Run the exercise\n",
        "exercise_48()"
      ]
    },
    {
      "cell_type": "code",
      "execution_count": 51,
      "id": "90d36e38",
      "metadata": {
        "id": "90d36e38",
        "outputId": "f3d0e566-95f6-4e76-ebe4-301204ff00aa"
      },
      "outputs": [
        {
          "name": "stdout",
          "output_type": "stream",
          "text": [
            "✅ Great job! Exercise completed successfully.\n"
          ]
        }
      ],
      "source": [
        "@check_exercise_49\n",
        "def exercise_49(elements):\n",
        "    # This line is mandatory and should not be removed\n",
        "    ex_stat_init = True\n",
        "\n",
        "    # given the list `elements`, assign to the variable `unique_elements` the sorted list with unique elements;\n",
        "    # BELOW GOES YOUR CODE\n",
        "    unique_elements = sorted(set(elements))\n",
        "    # ABOVE GOES YOUR CODE\n",
        "    return {\n",
        "        \"unique_elements\": unique_elements\n",
        "    }\n",
        "\n",
        "# Run the exercise\n",
        "exercise_49()"
      ]
    },
    {
      "cell_type": "code",
      "execution_count": 81,
      "id": "3dfe827e",
      "metadata": {
        "id": "3dfe827e",
        "outputId": "ecb59721-cf55-4af7-9e34-eb1dc9f08d93"
      },
      "outputs": [
        {
          "name": "stdout",
          "output_type": "stream",
          "text": [
            "❗ The implementation is incorrect or the exercise was not implemented.\n"
          ]
        }
      ],
      "source": [
        "@check_exercise_50\n",
        "def exercise_50(elements, elements_to_add):\n",
        "    # This line is mandatory and should not be removed\n",
        "    ex_stat_init = True\n",
        "\n",
        "    # given the list `elements`, insert the element \"Python\" in the second position of the list, append the element \"is\" in the last position and remove the element \"Java\", and add the elements of the list `elements_to_add` to the list;\n",
        "    # BELOW GOES YOUR CODE\n",
        "    elements = [\"C\", \"C++\", \"Java\", \"Ruby\"]\n",
        "    elements_to_add = [\"JavaScript\", \"Go\"]\n",
        "    elements.insert(1, \"Python\")\n",
        "    elements.append(\"is\")\n",
        "    elements.remove(\"Java\")\n",
        "    elements.extend(elements_to_add)\n",
        "    # ABOVE GOES YOUR CODE\n",
        "    return {\n",
        "        \"elements\": elements\n",
        "    }\n",
        "\n",
        "# Run the exercise\n",
        "exercise_50()"
      ]
    },
    {
      "cell_type": "code",
      "execution_count": 78,
      "id": "d55ca2ab",
      "metadata": {
        "id": "d55ca2ab",
        "outputId": "9f3fa6d7-0921-40d8-efba-06bd6d50bda3"
      },
      "outputs": [
        {
          "name": "stdout",
          "output_type": "stream",
          "text": [
            "✅ Great job! Exercise completed successfully.\n"
          ]
        }
      ],
      "source": [
        "@check_exercise_51\n",
        "def exercise_51(elements):\n",
        "    # This line is mandatory and should not be removed\n",
        "    ex_stat_init = True\n",
        "\n",
        "    # given the list `elements`, assign to the variable `sum_elements` the sum of the elements;\n",
        "    # BELOW GOES YOUR CODE\n",
        "    sum_elements = sum(elements)\n",
        "    # ABOVE GOES YOUR CODE\n",
        "    return {\n",
        "        \"sum_elements\": sum_elements\n",
        "    }\n",
        "\n",
        "# Run the exercise\n",
        "exercise_51()"
      ]
    },
    {
      "cell_type": "code",
      "execution_count": 79,
      "id": "e6d42444",
      "metadata": {
        "id": "e6d42444",
        "outputId": "c5efccd9-cab3-430f-aaab-04db3dd53ef5"
      },
      "outputs": [
        {
          "name": "stdout",
          "output_type": "stream",
          "text": [
            "✅ Great job! Exercise completed successfully.\n"
          ]
        }
      ],
      "source": [
        "@check_exercise_52\n",
        "def exercise_52(elements):\n",
        "    # This line is mandatory and should not be removed\n",
        "    ex_stat_init = True\n",
        "\n",
        "    # given the list `elements`, assign to the variable `max_element` the maximum element of the list;\n",
        "    # BELOW GOES YOUR CODE\n",
        "    max_element = max(elements)\n",
        "    # ABOVE GOES YOUR CODE\n",
        "    return {\n",
        "        \"max_element\": max_element\n",
        "    }\n",
        "\n",
        "# Run the exercise\n",
        "exercise_52()"
      ]
    },
    {
      "cell_type": "code",
      "execution_count": 80,
      "id": "94a35357",
      "metadata": {
        "id": "94a35357",
        "outputId": "eeb1405a-887a-480d-f7e6-3a0dd19fba25"
      },
      "outputs": [
        {
          "name": "stdout",
          "output_type": "stream",
          "text": [
            "✅ Great job! Exercise completed successfully.\n"
          ]
        }
      ],
      "source": [
        "@check_exercise_53\n",
        "def exercise_53(elements):\n",
        "    # This line is mandatory and should not be removed\n",
        "    ex_stat_init = True\n",
        "\n",
        "    # given the list `elements`, assign to the variable `min_element` the minimum element of the list;\n",
        "    # BELOW GOES YOUR CODE\n",
        "    min_element = min(elements)\n",
        "    # ABOVE GOES YOUR CODE\n",
        "    return {\n",
        "        \"min_element\": min_element\n",
        "    }\n",
        "\n",
        "# Run the exercise\n",
        "exercise_53()"
      ]
    },
    {
      "cell_type": "code",
      "execution_count": 82,
      "id": "bf69d509",
      "metadata": {
        "id": "bf69d509",
        "outputId": "fa92c58c-fc2a-49a9-c62a-9e9b9d39744d"
      },
      "outputs": [
        {
          "name": "stdout",
          "output_type": "stream",
          "text": [
            "✅ Great job! Exercise completed successfully.\n"
          ]
        }
      ],
      "source": [
        "@check_exercise_54\n",
        "def exercise_54(elements):\n",
        "    # This line is mandatory and should not be removed\n",
        "    ex_stat_init = True\n",
        "\n",
        "    # given the list `elements`, assign to the variable `average` the average of the elements;\n",
        "    # BELOW GOES YOUR CODE\n",
        "    average = sum(elements) / len(elements)\n",
        "    # ABOVE GOES YOUR CODE\n",
        "    return {\n",
        "        \"average\": average\n",
        "    }\n",
        "\n",
        "# Run the exercise\n",
        "exercise_54()"
      ]
    },
    {
      "cell_type": "code",
      "execution_count": 83,
      "id": "189c9bd5",
      "metadata": {
        "id": "189c9bd5",
        "outputId": "bf3753dc-a5e1-431d-8209-716f0b447b47"
      },
      "outputs": [
        {
          "name": "stdout",
          "output_type": "stream",
          "text": [
            "✅ Great job! Exercise completed successfully.\n"
          ]
        }
      ],
      "source": [
        "@check_exercise_55\n",
        "def exercise_55(elements):\n",
        "    # This line is mandatory and should not be removed\n",
        "    ex_stat_init = True\n",
        "\n",
        "    # given the list `elements`, pop the last element of the list and assign it to the variable `last_element`;\n",
        "    # BELOW GOES YOUR CODE\n",
        "    last_element = elements.pop()\n",
        "    # ABOVE GOES YOUR CODE\n",
        "    return {\n",
        "        \"last_element\": last_element,\n",
        "        \"elements\": elements\n",
        "    }\n",
        "\n",
        "# Run the exercise\n",
        "exercise_55()"
      ]
    },
    {
      "cell_type": "code",
      "execution_count": 84,
      "id": "c1159585",
      "metadata": {
        "id": "c1159585",
        "outputId": "7761e561-55b0-4698-8798-8d584529e324"
      },
      "outputs": [
        {
          "name": "stdout",
          "output_type": "stream",
          "text": [
            "❗ The implementation is incorrect or the exercise was not implemented.\n"
          ]
        }
      ],
      "source": [
        "@check_exercise_56\n",
        "def exercise_56(coordinates1, coordinates2):\n",
        "    # This line is mandatory and should not be removed\n",
        "    ex_stat_init = True\n",
        "\n",
        "    # given the tuples `coordinates1` and `coordinates2`, assign to the variable `distance` the distance between the two points;\n",
        "    # BELOW GOES YOUR CODE\n",
        "    distance = math.sqrt((coordinates2[0] - coordinates1[0]) ** 2 + (coordinates2[1] - coordinates1[1]) ** 2)\n",
        "    # ABOVE GOES YOUR CODE\n",
        "    return {\n",
        "        \"distance\": distance\n",
        "    }\n",
        "\n",
        "# Run the exercise\n",
        "exercise_56()"
      ]
    },
    {
      "cell_type": "code",
      "execution_count": 3,
      "id": "4e497d1a",
      "metadata": {
        "id": "4e497d1a",
        "outputId": "479a183f-9833-4b42-b059-ff270eb7ed95"
      },
      "outputs": [
        {
          "name": "stdout",
          "output_type": "stream",
          "text": [
            "✅ Great job! Exercise completed successfully.\n"
          ]
        }
      ],
      "source": [
        "@check_exercise_57\n",
        "def exercise_57(first_tuple, second_tuple):\n",
        "    # This line is mandatory and should not be removed\n",
        "    ex_stat_init = True\n",
        "\n",
        "    # given the tuples `first_tuple` and `second_tuple`, assign to the variable `concatenated_tuple` the concatenation of the two tuples;\n",
        "    # BELOW GOES YOUR CODE\n",
        "    concatenated_tuple = first_tuple + second_tuple\n",
        "    # ABOVE GOES YOUR CODE\n",
        "    return {\n",
        "        \"concatenated_tuple\": concatenated_tuple\n",
        "    }\n",
        "\n",
        "# Run the exercise\n",
        "exercise_57()"
      ]
    },
    {
      "cell_type": "code",
      "execution_count": 4,
      "id": "8583ba95",
      "metadata": {
        "id": "8583ba95",
        "outputId": "27b53ca6-449a-456f-b8ca-efcff8c4be1c"
      },
      "outputs": [
        {
          "name": "stdout",
          "output_type": "stream",
          "text": [
            "✅ Great job! Exercise completed successfully.\n"
          ]
        }
      ],
      "source": [
        "@check_exercise_58\n",
        "def exercise_58(tuple_to_multiply):\n",
        "    # This line is mandatory and should not be removed\n",
        "    ex_stat_init = True\n",
        "\n",
        "    # given the tuple `tuple_to_multiply`, assign to the variable `multiplied_tuple` the tuple multiplied by 3;\n",
        "    # BELOW GOES YOUR CODE\n",
        "    multiplied_tuple = tuple_to_multiply * 3\n",
        "    # ABOVE GOES YOUR CODE\n",
        "    return {\n",
        "        \"multiplied_tuple\": multiplied_tuple\n",
        "    }\n",
        "\n",
        "# Run the exercise\n",
        "exercise_58()"
      ]
    },
    {
      "cell_type": "code",
      "execution_count": 5,
      "id": "5da06cd8",
      "metadata": {
        "id": "5da06cd8",
        "outputId": "3345e9da-88b9-4029-f2fa-fee20d83e3dc"
      },
      "outputs": [
        {
          "name": "stdout",
          "output_type": "stream",
          "text": [
            "✅ Great job! Exercise completed successfully.\n"
          ]
        }
      ],
      "source": [
        "@check_exercise_59\n",
        "def exercise_59(student_dictionary):\n",
        "    # This line is mandatory and should not be removed\n",
        "    ex_stat_init = True\n",
        "\n",
        "    # given the dictionary `student_dictionary`, assign to the variable `students` a list with all the keys of the dictionary;\n",
        "    # BELOW GOES YOUR CODE\n",
        "    students = list(student_dictionary.keys())\n",
        "    # ABOVE GOES YOUR CODE\n",
        "    return {\n",
        "        \"students\": students\n",
        "    }\n",
        "\n",
        "# Run the exercise\n",
        "exercise_59()"
      ]
    },
    {
      "cell_type": "code",
      "execution_count": 6,
      "id": "cdfa5ce6",
      "metadata": {
        "id": "cdfa5ce6",
        "outputId": "f1344d8e-0bed-4a70-e804-8aa905602e69"
      },
      "outputs": [
        {
          "name": "stdout",
          "output_type": "stream",
          "text": [
            "✅ Great job! Exercise completed successfully.\n"
          ]
        }
      ],
      "source": [
        "@check_exercise_60\n",
        "def exercise_60(student_dictionary):\n",
        "    # This line is mandatory and should not be removed\n",
        "    ex_stat_init = True\n",
        "\n",
        "    # given the dictionary `student_dictionary`, assign to the variable `grades`a list with all the values of the dictionary;\n",
        "    # BELOW GOES YOUR CODE\n",
        "    grades = list(student_dictionary.values())\n",
        "    # ABOVE GOES YOUR CODE\n",
        "    return {\n",
        "        \"grades\": grades\n",
        "    }\n",
        "\n",
        "# Run the exercise\n",
        "exercise_60()"
      ]
    },
    {
      "cell_type": "code",
      "execution_count": 8,
      "id": "b305abf2",
      "metadata": {
        "id": "b305abf2",
        "outputId": "1f3c678f-7549-458b-dc5b-8dff5986af63"
      },
      "outputs": [
        {
          "name": "stdout",
          "output_type": "stream",
          "text": [
            "✅ Great job! Exercise completed successfully.\n"
          ]
        }
      ],
      "source": [
        "@check_exercise_61\n",
        "def exercise_61(student_dictionary):\n",
        "    # This line is mandatory and should not be removed\n",
        "    ex_stat_init = True\n",
        "\n",
        "    # given the dictionary `student_dictionary`, assign to the variable `students` a list of all the items of the dictionary;\n",
        "    # BELOW GOES YOUR CODE\n",
        "    students = list(student_dictionary.items())\n",
        "    # ABOVE GOES YOUR CODE\n",
        "    return {\n",
        "        \"students\": students\n",
        "    }\n",
        "\n",
        "# Run the exercise\n",
        "exercise_61()"
      ]
    },
    {
      "cell_type": "code",
      "execution_count": 9,
      "id": "63282078",
      "metadata": {
        "id": "63282078",
        "outputId": "a62d5df2-f6a9-40b6-89e1-0d786d1391ee"
      },
      "outputs": [
        {
          "name": "stdout",
          "output_type": "stream",
          "text": [
            "✅ Great job! Exercise completed successfully.\n"
          ]
        }
      ],
      "source": [
        "@check_exercise_62\n",
        "def exercise_62(class_dictionary, students_dictionary):\n",
        "    # This line is mandatory and should not be removed\n",
        "    ex_stat_init = True\n",
        "\n",
        "    # given the dictionaries `class_dictionary` and `students_dictionary`, add to the `class_dictionary` the items of the `students_dictionary`;\n",
        "    # BELOW GOES YOUR CODE\n",
        "    class_dictionary.update(students_dictionary)\n",
        "    # ABOVE GOES YOUR CODE\n",
        "    return {\n",
        "        \"class_dictionary\": class_dictionary\n",
        "    }\n",
        "\n",
        "# Run the exercise\n",
        "exercise_62()"
      ]
    },
    {
      "cell_type": "code",
      "execution_count": 12,
      "id": "73ff1f03",
      "metadata": {
        "id": "73ff1f03",
        "outputId": "1e783ff8-0db4-4cc6-83ea-230a7e6359bb"
      },
      "outputs": [
        {
          "name": "stdout",
          "output_type": "stream",
          "text": [
            "✅ Great job! Exercise completed successfully.\n"
          ]
        }
      ],
      "source": [
        "@check_exercise_63\n",
        "def exercise_63(class_dictionary):\n",
        "    # This line is mandatory and should not be removed\n",
        "    ex_stat_init = True\n",
        "\n",
        "    # given the dictionary `class_dictionary`, remove the item with the key \"John\";\n",
        "    # BELOW GOES YOUR CODE\n",
        "    class_dictionary.pop('John', None)\n",
        "    # ABOVE GOES YOUR CODE\n",
        "    return {\n",
        "        \"class_dictionary\": class_dictionary\n",
        "    }\n",
        "\n",
        "# Run the exercise\n",
        "exercise_63()"
      ]
    },
    {
      "cell_type": "code",
      "execution_count": 13,
      "id": "9cf81cee",
      "metadata": {
        "id": "9cf81cee",
        "outputId": "b2a6161a-a2c8-4449-883d-5816ccfb7aaf"
      },
      "outputs": [
        {
          "name": "stdout",
          "output_type": "stream",
          "text": [
            "✅ Great job! Exercise completed successfully.\n"
          ]
        }
      ],
      "source": [
        "@check_exercise_64\n",
        "def exercise_64(class_dictionary):\n",
        "    # This line is mandatory and should not be removed\n",
        "    ex_stat_init = True\n",
        "\n",
        "    # given the dictionary `class_dictionary`, assign to the variable `alex_grade` the grade of Alex, if it exists;\n",
        "    # BELOW GOES YOUR CODE\n",
        "    alex_grade = class_dictionary.get('Alex')\n",
        "    # ABOVE GOES YOUR CODE\n",
        "    return {\n",
        "        \"alex_grade\": alex_grade\n",
        "    }\n",
        "\n",
        "# Run the exercise\n",
        "exercise_64()"
      ]
    },
    {
      "cell_type": "code",
      "execution_count": 15,
      "id": "f2393712",
      "metadata": {
        "id": "f2393712",
        "outputId": "4cf9ab32-6415-44fc-c668-5667d8d12479"
      },
      "outputs": [
        {
          "name": "stdout",
          "output_type": "stream",
          "text": [
            "✅ Great job! Exercise completed successfully.\n"
          ]
        }
      ],
      "source": [
        "@check_exercise_65\n",
        "def exercise_65(first_set):\n",
        "    # This line is mandatory and should not be removed\n",
        "    ex_stat_init = True\n",
        "\n",
        "    # given the set `first_set`, assign to the variable `second_set` the `first_set` with the elements \"Python\" and \"is\" added;\n",
        "    # BELOW GOES YOUR CODE\n",
        "    second_set = first_set.copy()\n",
        "    second_set.update(['Python', 'is'])\n",
        "    # ABOVE GOES YOUR CODE\n",
        "    return {\n",
        "        \"second_set\": second_set\n",
        "    }\n",
        "\n",
        "# Run the exercise\n",
        "exercise_65()"
      ]
    },
    {
      "cell_type": "code",
      "execution_count": 18,
      "id": "fccf4d10",
      "metadata": {
        "id": "fccf4d10",
        "outputId": "c182b5cf-a883-46c2-b344-1aa928a60478"
      },
      "outputs": [
        {
          "name": "stdout",
          "output_type": "stream",
          "text": [
            "✅ Great job! Exercise completed successfully.\n"
          ]
        }
      ],
      "source": [
        "@check_exercise_66\n",
        "def exercise_66(first_set):\n",
        "    # This line is mandatory and should not be removed\n",
        "    ex_stat_init = True\n",
        "\n",
        "    # given the set `first_set`, assign to the variable `second_set` the `first_set` with the elements \"Python\" and \"is\" removed;\n",
        "    # BELOW GOES YOUR CODE\n",
        "    second_set = first_set.copy()\n",
        "    second_set.difference_update(['Python', 'is'])\n",
        "    # ABOVE GOES YOUR CODE\n",
        "    return {\n",
        "        \"second_set\": second_set\n",
        "    }\n",
        "\n",
        "# Run the exercise\n",
        "exercise_66()"
      ]
    },
    {
      "cell_type": "code",
      "execution_count": 19,
      "id": "48e19fbe",
      "metadata": {
        "id": "48e19fbe",
        "outputId": "80c76382-8c5a-4551-aa6f-0c80049ef176"
      },
      "outputs": [
        {
          "name": "stdout",
          "output_type": "stream",
          "text": [
            "✅ Great job! Exercise completed successfully.\n"
          ]
        }
      ],
      "source": [
        "@check_exercise_67\n",
        "def exercise_67(first_set):\n",
        "    # This line is mandatory and should not be removed\n",
        "    ex_stat_init = True\n",
        "\n",
        "    # given the set `first_set`, assign to the variable `second_set` the union of `first_set` with the set {\"Python\"};\n",
        "    # BELOW GOES YOUR CODE\n",
        "    second_set = first_set.union({'Python'})\n",
        "    # ABOVE GOES YOUR CODE\n",
        "    return {\n",
        "        \"second_set\": second_set\n",
        "    }\n",
        "\n",
        "# Run the exercise\n",
        "exercise_67()"
      ]
    },
    {
      "cell_type": "code",
      "execution_count": 20,
      "id": "d44358dd",
      "metadata": {
        "id": "d44358dd",
        "outputId": "b78579a9-de7a-4f01-c40c-f9e8a0a7d0be"
      },
      "outputs": [
        {
          "name": "stdout",
          "output_type": "stream",
          "text": [
            "✅ Great job! Exercise completed successfully.\n"
          ]
        }
      ],
      "source": [
        "@check_exercise_68\n",
        "def exercise_68(first_set, second_set):\n",
        "    # This line is mandatory and should not be removed\n",
        "    ex_stat_init = True\n",
        "\n",
        "    # given the sets `first_set` and `second_set`, assign to the variable `third_set` the intersection of the two sets;\n",
        "    # BELOW GOES YOUR CODE\n",
        "    third_set = first_set.intersection(second_set)\n",
        "    # ABOVE GOES YOUR CODE\n",
        "    return {\n",
        "        \"third_set\": third_set\n",
        "    }\n",
        "\n",
        "# Run the exercise\n",
        "exercise_68()"
      ]
    },
    {
      "cell_type": "code",
      "execution_count": 21,
      "id": "e836627c",
      "metadata": {
        "id": "e836627c",
        "outputId": "554a6af9-ee30-4aa0-e255-dbee0160b4ed"
      },
      "outputs": [
        {
          "name": "stdout",
          "output_type": "stream",
          "text": [
            "✅ Great job! Exercise completed successfully.\n"
          ]
        }
      ],
      "source": [
        "@check_exercise_69\n",
        "def exercise_69(first_set, second_set):\n",
        "    # This line is mandatory and should not be removed\n",
        "    ex_stat_init = True\n",
        "\n",
        "    # given the sets `first_set` and `second_set`, assign to the variable `third_set` the difference of the two sets;\n",
        "    # BELOW GOES YOUR CODE\n",
        "    third_set = first_set.difference(second_set)\n",
        "    # ABOVE GOES YOUR CODE\n",
        "    return {\n",
        "        \"third_set\": third_set\n",
        "    }\n",
        "\n",
        "# Run the exercise\n",
        "exercise_69()"
      ]
    },
    {
      "cell_type": "code",
      "execution_count": 22,
      "id": "4a0ff913",
      "metadata": {
        "id": "4a0ff913",
        "outputId": "90f71c04-d91d-4937-d7c4-1d33c419dd45"
      },
      "outputs": [
        {
          "name": "stdout",
          "output_type": "stream",
          "text": [
            "✅ Great job! Exercise completed successfully.\n"
          ]
        }
      ],
      "source": [
        "@check_exercise_70\n",
        "def exercise_70(first_set, second_set):\n",
        "    # This line is mandatory and should not be removed\n",
        "    ex_stat_init = True\n",
        "\n",
        "    # given the sets `first_set` and `second_set`, assign to the variable `third_set` the symmetric difference of the two sets and remove the element \"Python\" from it, if present;\n",
        "    # BELOW GOES YOUR CODE\n",
        "    third_set = first_set.symmetric_difference(second_set)\n",
        "    # ABOVE GOES YOUR CODE\n",
        "    return {\n",
        "        \"third_set\": third_set\n",
        "    }\n",
        "\n",
        "# Run the exercise\n",
        "exercise_70()"
      ]
    },
    {
      "cell_type": "code",
      "execution_count": 23,
      "id": "63816c84",
      "metadata": {
        "id": "63816c84",
        "outputId": "f5cb719a-7605-4d55-e50c-9d587041bfa2"
      },
      "outputs": [
        {
          "name": "stdout",
          "output_type": "stream",
          "text": [
            "✅ Great job! Exercise completed successfully.\n"
          ]
        }
      ],
      "source": [
        "@check_exercise_71\n",
        "def exercise_71(computations):\n",
        "    # This line is mandatory and should not be removed\n",
        "    ex_stat_init = True\n",
        "\n",
        "    # convert all values of the dictionary `computations` to floats;\n",
        "    # BELOW GOES YOUR CODE\n",
        "    computations = {key: float(value) for key, value in computations.items()}    \n",
        "    # ABOVE GOES YOUR CODE\n",
        "    return {\n",
        "        \"computations\": computations\n",
        "    }\n",
        "\n",
        "# Run the exercise\n",
        "exercise_71()\n",
        "\n"
      ]
    },
    {
      "cell_type": "code",
      "execution_count": 24,
      "id": "52313e9a",
      "metadata": {
        "id": "52313e9a",
        "outputId": "552c5212-b73e-4846-a4f3-62442d6b03b7"
      },
      "outputs": [
        {
          "name": "stdout",
          "output_type": "stream",
          "text": [
            "✅ Great job! Exercise completed successfully.\n"
          ]
        }
      ],
      "source": [
        "@check_exercise_72\n",
        "def exercise_72(computations):\n",
        "    # This line is mandatory and should not be removed\n",
        "    ex_stat_init = True\n",
        "\n",
        "    # convert all values of the dictionary `computations` to integers;\n",
        "    # BELOW GOES YOUR CODE\n",
        "    computations = {key: int(value) for key, value in computations.items()}\n",
        "    # ABOVE GOES YOUR CODE\n",
        "    return {\n",
        "        \"computations\": computations\n",
        "    }\n",
        "\n",
        "# Run the exercise\n",
        "exercise_72()"
      ]
    },
    {
      "cell_type": "code",
      "execution_count": 25,
      "id": "6e5fedc2",
      "metadata": {
        "id": "6e5fedc2",
        "outputId": "fd3ffddd-a61c-43e5-a188-d7e8dbe6f517"
      },
      "outputs": [
        {
          "name": "stdout",
          "output_type": "stream",
          "text": [
            "✅ Great job! Exercise completed successfully.\n"
          ]
        }
      ],
      "source": [
        "@check_exercise_73\n",
        "def exercise_73(x, y, z):\n",
        "    # This line is mandatory and should not be removed\n",
        "    ex_stat_init = True\n",
        "\n",
        "    # create a dictionary called `comparisons` with the keys \"eq_x_y\", \"eq_x_z\", \"eq_y_z\", \"ne_x_y\", \"ne_x_z\", \"ne_y_z\", \"gt_x_y\", \"gt_x_z\", \"gt_y_z\", \"ge_x_y\", \"ge_x_z\", \"ge_y_z\", \"lt_x_y\", \"lt_x_z\", \"lt_y_z\", \"le_x_y\", \"le_x_z\", \"le_y_z\" and the values the results of the respective operations given the variables x, y, z;\n",
        "    # BELOW GOES YOUR COD2\n",
        "    comparisons = {\n",
        "    \"eq_x_y\": x == y,\n",
        "    \"eq_x_z\": x == z,\n",
        "    \"eq_y_z\": y == z,\n",
        "    \"ne_x_y\": x != y,\n",
        "    \"ne_x_z\": x != z,\n",
        "    \"ne_y_z\": y != z,\n",
        "    \"gt_x_y\": x > y,\n",
        "    \"gt_x_z\": x > z,\n",
        "    \"gt_y_z\": y > z,\n",
        "    \"ge_x_y\": x >= y,\n",
        "    \"ge_x_z\": x >= z,\n",
        "    \"ge_y_z\": y >= z,\n",
        "    \"lt_x_y\": x < y,\n",
        "    \"lt_x_z\": x < z,\n",
        "    \"lt_y_z\": y < z,\n",
        "    \"le_x_y\": x <= y,\n",
        "    \"le_x_z\": x <= z,\n",
        "    \"le_y_z\": y <= z,\n",
        "}\n",
        "    # ABOVE GOES YOUR CODE\n",
        "    return {\n",
        "        \"comparisons\": comparisons\n",
        "    }\n",
        "\n",
        "# Run the exercise\n",
        "exercise_73()"
      ]
    },
    {
      "cell_type": "code",
      "execution_count": 26,
      "id": "0e59395c",
      "metadata": {
        "id": "0e59395c",
        "outputId": "cb152b0f-55e7-4d5d-f5ed-f5430c193780"
      },
      "outputs": [
        {
          "name": "stdout",
          "output_type": "stream",
          "text": [
            "✅ Great job! Exercise completed successfully.\n"
          ]
        }
      ],
      "source": [
        "@check_exercise_74\n",
        "def exercise_74(x, y, z):\n",
        "    # This line is mandatory and should not be removed\n",
        "    ex_stat_init = True\n",
        "\n",
        "    # create a dictionary called `logicals` with the keys \"and_x_y\", \"and_x_z\", \"and_y_z\", \"or_x_y\", \"or_x_z\", \"or_y_z\", \"not_x\", \"not_y\", \"not_z\" and the values the results of the respective operations given the variables x, y, z;\n",
        "    # BELOW GOES YOUR CODE\n",
        "    logicals = {\n",
        "    \"and_x_y\": x and y,\n",
        "    \"and_x_z\": x and z,\n",
        "    \"and_y_z\": y and z,\n",
        "    \"or_x_y\": x or y,\n",
        "    \"or_x_z\": x or z,\n",
        "    \"or_y_z\": y or z,\n",
        "    \"not_x\": not x,\n",
        "    \"not_y\": not y,\n",
        "    \"not_z\": not z,\n",
        "}\n",
        "    # ABOVE GOES YOUR CODE\n",
        "    return {\n",
        "        \"logicals\": logicals\n",
        "    }\n",
        "\n",
        "# Run the exercise\n",
        "exercise_74()"
      ]
    },
    {
      "cell_type": "code",
      "execution_count": 77,
      "id": "efba3b7e",
      "metadata": {
        "id": "efba3b7e",
        "outputId": "e8b4771f-61d2-4ff9-e250-67c21d44bd76"
      },
      "outputs": [
        {
          "name": "stdout",
          "output_type": "stream",
          "text": [
            "❗ The implementation is incorrect or the exercise was not implemented.\n"
          ]
        }
      ],
      "source": [
        "@check_exercise_75\n",
        "def exercise_75(amazing_string):\n",
        "    # This line is mandatory and should not be removed\n",
        "    ex_stat_init = True\n",
        "\n",
        "    # replace the word \"amazing!\" with \"amazing! Especially when is taught at Sigmoid\" in the variable `amazing_string`;\n",
        "    # BELOW GOES YOUR CODE\n",
        "    amazing_string = amazing_string.replace(\"amazing!\", \"amazing! Especially when it is taught at Sigmoid\")\n",
        "    # ABOVE GOES YOUR CODE\n",
        "\n",
        "# Run the exercise\n",
        "exercise_75()"
      ]
    }
  ],
  "metadata": {
    "colab": {
      "provenance": []
    },
    "kernelspec": {
      "display_name": "excalibur",
      "language": "python",
      "name": "python3"
    },
    "language_info": {
      "codemirror_mode": {
        "name": "ipython",
        "version": 3
      },
      "file_extension": ".py",
      "mimetype": "text/x-python",
      "name": "python",
      "nbconvert_exporter": "python",
      "pygments_lexer": "ipython3",
      "version": "3.10.11"
    }
  },
  "nbformat": 4,
  "nbformat_minor": 5
}
